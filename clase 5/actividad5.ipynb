{
 "cells": [
  {
   "cell_type": "markdown",
   "id": "4964adf1-4f93-4105-a860-4c4ebb227b24",
   "metadata": {},
   "source": [
    "## <font color='yellow'> Ejemplo de Transformaciones en un Conjunto de Datos </font>\n",
    "\n",
    "Supongamos que tenemos un conjunto de datos de una tienda de electrónica \n",
    "que contiene información sobre las ventas de diferentes productos. El \n",
    "conjunto de datos tiene las siguientes columna\n",
    "\n",
    "- Producto: El nombre del producto (categórico)\n",
    "- Precio: El precio del producto (numérico)\n",
    "- Unidades Vendidas: Número de unidades vendidas (numérico)\n",
    "- Calificación: Calificación del producto como Baja, Media o Alta \n",
    "(categórico y ordinal)\n",
    "1. Limpieza de Datos: Supongamos que algunos datos están faltantes en la columna Precio y \n",
    "Calificación)"
   ]
  },
  {
   "cell_type": "code",
   "execution_count": 6,
   "id": "da23d433-4fb3-4b75-ab66-59227fb00fdd",
   "metadata": {},
   "outputs": [
    {
     "name": "stdout",
     "output_type": "stream",
     "text": [
      "Primeras filas del conjunto de datos Iris:\n",
      "   sepal_length  sepal_width  petal_length  petal_width      species\n",
      "0           5.1          3.5           1.4          0.2  Iris-setosa\n",
      "1           4.9          3.0           1.4          0.2  Iris-setosa\n",
      "2           4.7          3.2           1.3          0.2  Iris-setosa\n",
      "3           4.6          3.1           1.5          0.2  Iris-setosa\n",
      "4           5.0          3.6           1.4          0.2  Iris-setosa\n",
      "\n",
      "Datos faltantes en cada columna:\n",
      "sepal_length    0\n",
      "sepal_width     0\n",
      "petal_length    0\n",
      "petal_width     0\n",
      "species         0\n",
      "dtype: int64\n"
     ]
    },
    {
     "data": {
      "image/png": "[encoded data removed]",
      "text/plain": [
       "<Figure size 1000x600 with 1 Axes>"
      ]
     },
     "metadata": {},
     "output_type": "display_data"
    },
    {
     "name": "stdout",
     "output_type": "stream",
     "text": [
      "\n",
      "Outliers detectados:\n",
      "sepal_length: 0 outliers detectados\n",
      "sepal_width: 4 outliers detectados\n",
      "petal_length: 0 outliers detectados\n",
      "petal_width: 0 outliers detectados\n",
      "\n",
      "DataFrame final después de las transformaciones:\n",
      "   sepal_length  sepal_width  petal_length  petal_width  \\\n",
      "0     -0.900681     1.032057     -1.341272    -1.312977   \n",
      "1     -1.143017    -0.124958     -1.341272    -1.312977   \n",
      "2     -1.385353     0.337848     -1.398138    -1.312977   \n",
      "3     -1.506521     0.106445     -1.284407    -1.312977   \n",
      "4     -1.021849     1.263460     -1.341272    -1.312977   \n",
      "\n",
      "   species_Iris-versicolor  species_Iris-virginica  \n",
      "0                    False                   False  \n",
      "1                    False                   False  \n",
      "2                    False                   False  \n",
      "3                    False                   False  \n",
      "4                    False                   False  \n"
     ]
    }
   ],
   "source": [
    "import pandas as pd\n",
    "import numpy as np\n",
    "import seaborn as sns\n",
    "import matplotlib.pyplot as plt\n",
    "from sklearn.preprocessing import StandardScaler, MinMaxScaler\n",
    "from scipy import stats\n",
    "\n",
    "# Cargar el conjunto de datos Iris\n",
    "url = 'https://archive.ics.uci.edu/ml/machine-learning-databases/iris/iris.data'\n",
    "columns = ['sepal_length', 'sepal_width', 'petal_length', 'petal_width', 'species']\n",
    "iris = pd.read_csv(url, header=None, names=columns)\n",
    "\n",
    "# Mostrar las primeras filas del DataFrame\n",
    "print(\"Primeras filas del conjunto de datos Iris:\")\n",
    "print(iris.head())\n",
    "\n",
    "# 1. Manejo de Datos Faltantes\n",
    "# Verificar datos faltantes\n",
    "print(\"\\nDatos faltantes en cada columna:\")\n",
    "print(iris.isnull().sum())\n",
    "\n",
    "# 2. Detección de Outliers\n",
    "# Crear un boxplot para detectar outliers\n",
    "plt.figure(figsize=(10, 6))\n",
    "sns.boxplot(data=iris[['sepal_length', 'sepal_width', 'petal_length', 'petal_width']])\n",
    "plt.title('Boxplot para Detección de Outliers')\n",
    "plt.show()\n",
    "\n",
    "# Método IQR para detección de outliers\n",
    "Q1 = iris[['sepal_length', 'sepal_width', 'petal_length', 'petal_width']].quantile(0.25)\n",
    "Q3 = iris[['sepal_length', 'sepal_width', 'petal_length', 'petal_width']].quantile(0.75)\n",
    "IQR = Q3 - Q1\n",
    "\n",
    "# Definir límites para detectar outliers\n",
    "lower_bound = Q1 - 1.5 * IQR\n",
    "upper_bound = Q3 + 1.5 * IQR\n",
    "\n",
    "# Filtrar outliers\n",
    "outliers = ((iris[['sepal_length', 'sepal_width', 'petal_length', 'petal_width']] < lower_bound) | \n",
    "            (iris[['sepal_length', 'sepal_width', 'petal_length', 'petal_width']] > upper_bound))\n",
    "\n",
    "print(\"\\nOutliers detectados:\")\n",
    "for col in outliers.columns:\n",
    "    print(f\"{col}: {iris[outliers[col]].shape[0]} outliers detectados\")\n",
    "\n",
    "# 3. Transformaciones\n",
    "# Normalización (Min-Max Scaling)\n",
    "min_max_scaler = MinMaxScaler()\n",
    "iris[['sepal_length', 'sepal_width', 'petal_length', 'petal_width']] = min_max_scaler.fit_transform(\n",
    "    iris[['sepal_length', 'sepal_width', 'petal_length', 'petal_width']]\n",
    ")\n",
    "\n",
    "# Estandarización (Z-score Normalization)\n",
    "scaler = StandardScaler()\n",
    "iris[['sepal_length', 'sepal_width', 'petal_length', 'petal_width']] = scaler.fit_transform(\n",
    "    iris[['sepal_length', 'sepal_width', 'petal_length', 'petal_width']]\n",
    ")\n",
    "\n",
    "# Codificación One-Hot para la variable categórica 'species'\n",
    "iris_encoded = pd.get_dummies(iris, columns=['species'], drop_first=True)\n",
    "\n",
    "# Mostrar el DataFrame final después de las transformaciones\n",
    "print(\"\\nDataFrame final después de las transformaciones:\")\n",
    "print(iris_encoded.head())\n",
    "\n"
   ]
  },
  {
   "cell_type": "markdown",
   "id": "19362cb0-75bf-4d13-be21-569b7d1a853b",
   "metadata": {},
   "source": [
    "### Documentación del Código\n",
    "Carga del Conjunto de Datos: Se carga el conjunto de datos Iris desde un URL y se asignan nombres a las columnas.\n",
    "Manejo de Datos Faltantes: Se verifica si hay datos faltantes en cada columna. En este caso, no se encontraron datos faltantes en el conjunto de datos.\n",
    "Detección de Outliers:\n",
    "Se utiliza un boxplot para visualizar la distribución de las variables y detectar visualmente posibles outliers.\n",
    "Se aplica el método del Rango Intercuartílico (IQR) para calcular los límites superior e inferior y filtrar los outliers.\n",
    "Transformaciones:\n",
    "Se aplica la normalización (Min-Max Scaling) para escalar las características numéricas a un rango de 0 a 1.\n",
    "Se aplica la estandarización (Z-score Normalization) para centrar las características alrededor de 0 y ajustar su varianza a 1.\n",
    "Se realiza codificación one-hot para la variable categórica 'species', transformando las etiquetas en columnas binarias.\n",
    "### Insights Encontrados\n",
    "Datos Faltantes: En el conjunto de datos Iris, no se encontraron datos faltantes, lo que simplifica el proceso de limpieza.\n",
    "Detección de Outliers: Al utilizar boxplots, se observaron outliers en algunas de las características, lo cual es crucial para el análisis posterior y el modelado, ya que estos pueden influir en los resultados.\n",
    "Transformaciones: La normalización y estandarización son pasos fundamentales para preparar los datos para algoritmos de aprendizaje automático, asegurando que las características estén en la misma escala y que se minimicen los efectos de las diferentes unidades de medida.\n",
    "### Reflexión Final\n",
    "La limpieza y preparación de datos son etapas esenciales en cualquier proyecto de análisis de datos. La capacidad para manejar datos faltantes, detectar y tratar outliers, y aplicar transformaciones adecuadas garantiza que los modelos sean más robustos y que las interpretaciones sean más precisas. La visualización de datos, como los boxplots, ayuda a identificar problemas en los datos y a tomar decisiones informadas sobre cómo proceder con el análisis."
   ]
  },
  {
   "cell_type": "code",
   "execution_count": null,
   "id": "605bb129-c7fd-4c8b-9983-27736caf967d",
   "metadata": {},
   "outputs": [],
   "source": []
  }
 ],
 "metadata": {
  "kernelspec": {
   "display_name": "Python 3 (ipykernel)",
   "language": "python",
   "name": "python3"
  },
  "language_info": {
   "codemirror_mode": {
    "name": "ipython",
    "version": 3
   },
   "file_extension": ".py",
   "mimetype": "text/x-python",
   "name": "python",
   "nbconvert_exporter": "python",
   "pygments_lexer": "ipython3",
   "version": "3.11.7"
  }
 },
 "nbformat": 4,
 "nbformat_minor": 5
}
