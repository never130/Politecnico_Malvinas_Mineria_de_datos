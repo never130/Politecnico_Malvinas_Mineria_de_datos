{
 "cells": [
  {
   "cell_type": "markdown",
   "id": "f80595d4-375b-4dc8-8ad5-fca2fa96b29a",
   "metadata": {},
   "source": [
    "## Clase Nº 5: Visualización de Datos en Minería de Datos\n",
    "### Limpieza de datos:\r\n",
    "La limpieza de datos es uno de los pasos más críticos y a menudo \r\n",
    "subestimados en el proceso de análisis de datos. Un conjunto de datos sucio \r\n",
    "puede llevar a conclusiones erróneas y a modelos ineficientes. Por lo tanto, \r\n",
    "es esencial dedicar tiempo a comprender y limpiar nuestros datos antes de \r\n",
    "cualquier aná.\n",
    "\n",
    "### 1) Manejo de datos faltantes:\n",
    "Los datos faltantes pueden surgir por diversas razones: errores en la \n",
    "recopilación, fallos en sistemas o simplemente porque la información no\r\n",
    "estaba disponible. Existen varias estrategias para manejar datos faltante\n",
    "s- i) Eliminación: Simplemente eliminar las filas o columnas qe \r\n",
    "tienen datos faltanes.lisis\n"
   ]
  },
  {
   "cell_type": "code",
   "execution_count": null,
   "id": "d4783a54-e278-4a32-b4d5-0bfb0739e6a2",
   "metadata": {},
   "outputs": [],
   "source": []
  }
 ],
 "metadata": {
  "kernelspec": {
   "display_name": "Python 3 (ipykernel)",
   "language": "python",
   "name": "python3"
  },
  "language_info": {
   "codemirror_mode": {
    "name": "ipython",
    "version": 3
   },
   "file_extension": ".py",
   "mimetype": "text/x-python",
   "name": "python",
   "nbconvert_exporter": "python",
   "pygments_lexer": "ipython3",
   "version": "3.11.7"
  }
 },
 "nbformat": 4,
 "nbformat_minor": 5
}
