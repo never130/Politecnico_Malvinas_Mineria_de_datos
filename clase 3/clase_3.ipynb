{
 "cells": [
  {
   "cell_type": "markdown",
   "id": "1de37f65-40ac-46ff-bcf1-3d7adf99ec86",
   "metadata": {},
   "source": [
    "## <font color='yellow'>CLASE N 3: Análisis Univariado y Multivariado.\n",
    "\n",
    "### <font color= 'white'> Analisis Univariado en Mineria de Datos </font>\n",
    "Es una técnica estadística que se centra en analizar una única variable a la vez. Su funcion principal es describir, resumir y encontrar patrones en los datos de una sola variable.\n",
    "1. <b>Distribución:</b> La distribución de una variable describe cómo se reparten \n",
    "sus diferentes valores.\n",
    "2. <b>Tendencia central:</b> Las medidas de tendencia central nos ayudan a identificar el \"centro\" de una distribucion de datos. <pre>Media: Es el promedio. <pre>Mediana: Es el valor medio. <pre>Moda: es el valor que aparece con mayor frecuencia.\n",
    "3. <b> Dispersión: </b> Nos indica cuanto varian los datos. <pre>Varianza: Es el promedio de las diferencias al cuadrado entre cada valor y la media. </pre><pre>Desvianción estándar: Indica la cantidad promedio que cada valor se desvía de la media.</pre>\n",
    "\n",
    "El análisis univariado es esencial para comprender las \n",
    "características de cada atributo y para tomar decisiones informadas sobre qué \n",
    "variables incluir en modelos más complejos, cómo tratar los valores atípicos \n",
    "o cómo transformar los datos para mejorar la calidad del análisis.\n"
   ]
  },
  {
   "cell_type": "markdown",
   "id": "8b934df6-e9ad-4b3c-a410-b1f98767e312",
   "metadata": {},
   "source": [
    "### <font color = 'yellow'> 1. <b>Correlación:</b> \n",
    "Mide la relación lineal entre dos variables. Si el valor es cercano a 1, indica una fuerte correlación positiva. Si es cercano a -1, indica una fuerte correlación negativa. Si es cercano a 0, indica que no hay correlación.\n",
    "Ejemplo:"
   ]
  },
  {
   "cell_type": "code",
   "execution_count": 32,
   "id": "de89274b-a03c-41c3-98fd-f8eeeeb11f48",
   "metadata": {},
   "outputs": [
    {
     "name": "stdout",
     "output_type": "stream",
     "text": [
      "0.9999999999999999\n"
     ]
    },
    {
     "data": {
      "text/plain": [
       "'Interpretación: Si el resultado es, por ejemplo, 0.99, significa que hay una fuerte correlación positiva entre las variables x e y.'"
      ]
     },
     "execution_count": 32,
     "metadata": {},
     "output_type": "execute_result"
    }
   ],
   "source": [
    "import numpy as np\n",
    "\n",
    "x = np.array([1, 2, 3, 4, 5])\n",
    "y = np.array([2, 3, 4, 5, 6])\n",
    "correlation = np.corrcoef(x, y)[0, 1]\n",
    "print(correlation)\n",
    "\n",
    "\"\"\"Interpretación: Si el resultado es, por ejemplo, 0.99, significa que hay una fuerte correlación positiva entre las variables x e y.\"\"\""
   ]
  },
  {
   "cell_type": "markdown",
   "id": "88c5a68b-346b-47fc-bb3d-a4f6cf5e4c60",
   "metadata": {},
   "source": [
    "### <font color = 'yellow'>2. <b>Regresión:</b>\n",
    "La regresión busca modelar la relación entre una variable dependiente \n",
    "y una o más variables independientes. Ejemplo:"
   ]
  },
  {
   "cell_type": "code",
   "execution_count": 33,
   "id": "67641706-9dba-47bf-b453-308d4c1640be",
   "metadata": {},
   "outputs": [
    {
     "name": "stdout",
     "output_type": "stream",
     "text": [
      "Requirement already satisfied: scikit-learn in c:\\users\\ever\\anaconda3\\lib\\site-packages (1.5.2)\n",
      "Requirement already satisfied: numpy>=1.19.5 in c:\\users\\ever\\anaconda3\\lib\\site-packages (from scikit-learn) (1.26.4)\n",
      "Requirement already satisfied: scipy>=1.6.0 in c:\\users\\ever\\anaconda3\\lib\\site-packages (from scikit-learn) (1.14.1)\n",
      "Requirement already satisfied: joblib>=1.2.0 in c:\\users\\ever\\anaconda3\\lib\\site-packages (from scikit-learn) (1.4.2)\n",
      "Requirement already satisfied: threadpoolctl>=3.1.0 in c:\\users\\ever\\anaconda3\\lib\\site-packages (from scikit-learn) (3.5.0)\n"
     ]
    }
   ],
   "source": [
    "!pip install scikit-learn\n"
   ]
  },
  {
   "cell_type": "code",
   "execution_count": 34,
   "id": "262bfdef-35c6-410d-b941-eb501b99e4c5",
   "metadata": {},
   "outputs": [
    {
     "name": "stdout",
     "output_type": "stream",
     "text": [
      "[2. 3. 4. 5. 6.]\n"
     ]
    },
    {
     "data": {
      "text/plain": [
       "'Interpretación: La salida muestra los valores predichos de y basados en X. Si los valores predichos se acercan a los valores reales de y, el modelo de regresión es bueno.'"
      ]
     },
     "execution_count": 34,
     "metadata": {},
     "output_type": "execute_result"
    }
   ],
   "source": [
    "import numpy as np \n",
    "from sklearn.linear_model import LinearRegression \n",
    "\n",
    "X = np.array([1,2,3,4,5]).reshape((-1, 1)) \n",
    "y = np.array([2,3,4,5,6]) \n",
    "model = LinearRegression().fit(X, y) \n",
    "y_pred = model.predict(X)\n",
    "print(y_pred)\n",
    "\n",
    "'''Interpretación: La salida muestra los valores predichos de y basados en X. Si los valores predichos se acercan a los valores reales de y, el modelo de regresión es bueno.'''"
   ]
  },
  {
   "cell_type": "markdown",
   "id": "82ef0c54-cc48-4817-a949-a91e4a41a496",
   "metadata": {},
   "source": [
    "\n",
    "### <font color = 'yellow'> 3. <b>Análisis de Componentes Principales (PCA):</b> \n",
    "PCA reduce la dimensionalidad de los datos, transformando las \n",
    "variables originales en un nuevo conjunto de variables, los componentes \n",
    "principales.\n",
    "Ejemplo:"
   ]
  },
  {
   "cell_type": "code",
   "execution_count": 36,
   "id": "2163a767-ce78-4343-8dd4-6546e18222b8",
   "metadata": {},
   "outputs": [
    {
     "name": "stdout",
     "output_type": "stream",
     "text": [
      "[[-2.82842712]\n",
      " [ 0.        ]\n",
      " [ 2.82842712]]\n"
     ]
    },
    {
     "data": {
      "text/plain": [
       "'Interpretación: La salida muestra los datos transformados en 1 \\ndimensión. Estos valores son las proyecciones de los datos originales en \\nla dirección de máxima varianza.'"
      ]
     },
     "execution_count": 36,
     "metadata": {},
     "output_type": "execute_result"
    }
   ],
   "source": [
    "from sklearn.decomposition import PCA \n",
    "\n",
    "data = [[1, 2], [3, 4], [5, 6]] \n",
    "pca = PCA(n_components=1) \n",
    "reduced_data = pca.fit_transform(data) \n",
    "print(reduced_data) \n",
    "\n",
    "'''Interpretación: La salida muestra los datos transformados en 1 \n",
    "dimensión. Estos valores son las proyecciones de los datos originales en \n",
    "la dirección de máxima varianza.'''"
   ]
  },
  {
   "cell_type": "markdown",
   "id": "0e196a5e-37b0-4b66-aead-1004514d5643",
   "metadata": {},
   "source": [
    "### <font color = 'yellow'> <b>4. Análisis de Clúster:</b>\n",
    "El análisis de clúster agrupa objetos basados en la similitud de \n",
    "características. Ejemplo:\n",
    "\n"
   ]
  },
  {
   "cell_type": "code",
   "execution_count": 42,
   "id": "63b9e74d-3aa4-4ab2-b3cd-2dcc24314187",
   "metadata": {},
   "outputs": [
    {
     "name": "stdout",
     "output_type": "stream",
     "text": [
      "[1 1 0 0]\n"
     ]
    },
    {
     "name": "stderr",
     "output_type": "stream",
     "text": [
      "C:\\Users\\Ever\\anaconda3\\Lib\\site-packages\\sklearn\\cluster\\_kmeans.py:1429: UserWarning: KMeans is known to have a memory leak on Windows with MKL, when there are less chunks than available threads. You can avoid it by setting the environment variable OMP_NUM_THREADS=1.\n",
      "  warnings.warn(\n"
     ]
    },
    {
     "data": {
      "text/plain": [
       "'\\nInterpretación: La salida muestra a qué clúster pertenece cada punto de \\ndatos. Por ejemplo, si la salida es [0, 0, 1, 1], significa que los dos \\nprimeros puntos pertenecen al clúster 0 y los dos últimos al clúster 1.\\n'"
      ]
     },
     "execution_count": 42,
     "metadata": {},
     "output_type": "execute_result"
    }
   ],
   "source": [
    "import os\n",
    "# Establecer la variable de entorno para evitar la fuga de memoria\n",
    "os.environ['OMP_NUM_THREADS'] = '1'\n",
    "\n",
    "from sklearn.cluster import KMeans\n",
    "\n",
    "# Datos de ejemplo\n",
    "data = [[1, 2], [3, 4], [5, 6], [7, 8]]\n",
    "\n",
    "# Crear y ajustar el modelo KMeans\n",
    "kmeans = KMeans(n_clusters=2, random_state=0).fit(data)\n",
    "\n",
    "# Obtener las etiquetas de los clústeres\n",
    "labels = kmeans.labels_\n",
    "\n",
    "# Imprimir las etiquetas de los clústeres\n",
    "print(labels)\n",
    "\n",
    "# Interpretación de la salida\n",
    "'''\n",
    "Interpretación: La salida muestra a qué clúster pertenece cada punto de \n",
    "datos. Por ejemplo, si la salida es [0, 0, 1, 1], significa que los dos \n",
    "primeros puntos pertenecen al clúster 0 y los dos últimos al clúster 1.\n",
    "'''\n"
   ]
  },
  {
   "cell_type": "markdown",
   "id": "1ccfe105-983e-4707-b467-da8870c26120",
   "metadata": {},
   "source": [
    "### <font color='yellow'>5. Análisis Discriminante:</font>\n",
    "El análisis discriminante busca determinar qué variables discriminan \n",
    "entre dos o más grupos previamente definidos. Ejemplo:"
   ]
  },
  {
   "cell_type": "code",
   "execution_count": 46,
   "id": "b8c05f38-697e-4d31-9685-488dcb6ac3ab",
   "metadata": {},
   "outputs": [
    {
     "name": "stdout",
     "output_type": "stream",
     "text": [
      "[1]\n"
     ]
    },
    {
     "data": {
      "text/plain": [
       "'Interpretación: La salida muestra a qué grupo pertenece el nuevo punto de datos. Si la salida es [1], significa que el punto de datos [4, 5] pertenece al grupo 1.'"
      ]
     },
     "execution_count": 46,
     "metadata": {},
     "output_type": "execute_result"
    }
   ],
   "source": [
    "from sklearn.discriminant_analysis import LinearDiscriminantAnalysis \n",
    "\n",
    "X = [[1, 2], [3, 4], [5, 6], [7, 8], [9, 10]] \n",
    "y = [1, 1, 2, 2, 2] \n",
    "clf = LinearDiscriminantAnalysis().fit(X, y) \n",
    "new_data = [[4, 5]] \n",
    "prediction = clf.predict(new_data) \n",
    "print(prediction) \n",
    "\n",
    "'''Interpretación: La salida muestra a qué grupo pertenece el nuevo punto de datos. Si la salida es [1], significa que el punto de datos [4, 5] pertenece al grupo 1.'''"
   ]
  },
  {
   "cell_type": "markdown",
   "id": "79b8240a-7a71-4472-b287-58edda270467",
   "metadata": {},
   "source": [
    "Estas técnicas, cuando se aplican correctamente en la minería de datos, \n",
    "pueden revelar patrones y relaciones ocultas en grandes conjuntos de \n",
    "datos. Es esencial comprender las bases matemáticas detrás de cada \n",
    "técnica para interpretar correctamente sus resultados.\n",
    "\n",
    "## <font color='orange'>Cierre: Actividad Práctica \n",
    "Actividad de Cierre: Implementación de Análisis Univariado\n",
    "- Objetivo: Aplicar técnicas de análisis univariado para comprender la \n",
    "distribución, tendencia central y dispersión de un conjunto de datos.\n",
    "\n",
    "- Conjunto de Datos: Utilizaremos el conjunto de datos \"Iris\" de la biblioteca \n",
    "sklearn. Este dataset contiene información sobre tres especies de flores iris \n",
    "y sus características: longitud y ancho del sépalo, y longitud y ancho del \n",
    "pétalo."
   ]
  },
  {
   "cell_type": "code",
   "execution_count": null,
   "id": "df95c2e9-7cbc-4eb9-8925-a0d07aeefa91",
   "metadata": {},
   "outputs": [],
   "source": []
  }
 ],
 "metadata": {
  "kernelspec": {
   "display_name": "Python 3 (ipykernel)",
   "language": "python",
   "name": "python3"
  },
  "language_info": {
   "codemirror_mode": {
    "name": "ipython",
    "version": 3
   },
   "file_extension": ".py",
   "mimetype": "text/x-python",
   "name": "python",
   "nbconvert_exporter": "python",
   "pygments_lexer": "ipython3",
   "version": "3.11.7"
  }
 },
 "nbformat": 4,
 "nbformat_minor": 5
}
