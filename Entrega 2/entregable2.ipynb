{
 "cells": [
  {
   "cell_type": "markdown",
   "id": "6d3d1ac1-23c6-4b38-9fc5-51352eb969bf",
   "metadata": {},
   "source": [
    "# **Segunda Actividad Integradora**\n",
    "\n",
    "## <font color=\"yellow\">Objetivo</font> \n",
    "Aplicar los conceptos aprendidos en el curso de Minería de Datos para realizar un análisis integral de un dataset real utilizando diversas técnicas de preprocesamiento y análisis exploratorio de datos. Esta actividad busca evaluar la capacidad del estudiante para aplicar conocimientos de manejo de datos, discretización, análisis y visualización para extraer información relevante, y comunicar sus hallazgos de manera clara y concisa.\n",
    "\n",
    "## <font color=\"yellow\">Instrucciones</font>\n",
    "**1. Dataset Asignado:**\n",
    "\n",
    "Utiliza el dataset \"Adult\" proporcionado por el docente. Este dataset contiene información recolectada durante un censo realizado en 1994 en Estados Unidos con el fin de determinar las características de las personas en relación a si ganan más de U$D 50,000 al año o no. El archivo adult_data.xls posee datos de 32,561 personas, y algunos de sus atributos son: \n",
    "- Edad, sexo, estado civil, nivel educativo\n",
    "- Tipo de trabajo, número de horas semanales que trabaja\n",
    "- Raza, país de origen o Capital.\n",
    "\n",
    "**2. Análisis y Respuesta de Preguntas:**\n",
    "   1. Verificación de Datos:\n",
    "      - a. Verifica si la base de datos posee atributos con datos faltantes.\n",
    "      - b. Verifica si existen atributos que necesiten normalización de sus valores. \n",
    "      - c. Identifica si hay atributos con valores inválidos.\n",
    "   2. Relación de Campos: El nivel educativo de la persona está indicado en dos campos: Education y Education_num. Analiza cómo se relacionan estos dos atributos y documenta tus hallazgos.\n",
    "   3. Reemplazo de Valores Faltantes:\n",
    "      - a. Completa los valores faltantes de los atributos Education_num y Capital_Loss con el valor mínimo.\n",
    "      - b. Completa el resto de los atributos que presenten valores faltantes con su correspondiente valor promedio.\n",
    "   4. Generación de Atributos Nuevos: Genera atributos nuevos para solucionar los problemas encontrados en los incisos 1b y 1c.\n",
    "      \n",
    "**3. Discretización del Atributo Hours_per_week:** \n",
    "\n",
    "Realiza tres discretizaciones diferentes del atributo Hours_per_week y compara los resultados obtenidos:\n",
    "   - a. En cuatro intervalos por partes iguales.\n",
    "   - b. En los siguientes cuatro intervalos: [1..10], [11..50], [51..70], [71..MAX].\n",
    "     \n",
    "**4. Análisis de Atributos Seleccionados:**\n",
    "- Selecciona los atributos: Edad, Education_num, Hours_per_week y Class. Realiza todos los posibles diagramas de dispersión utilizando la opción Scatter tomando al atributo Class como atributo para colorear. \n",
    "- Analiza los distintos diagramas y relaciona los atributos.\n",
    "   - a. ¿Qué puedes decir de las edades con respecto a la ganancia anual?\n",
    "   - b. ¿Puedes afirmar que las personas que poseen un nivel educativo por debajo de 8 y que trabajan menos de 40 horas no ganan más de 50 mil dólares por año?\n",
    "   - c. ¿Existe alguna relación entre el nivel educativo y el hecho de ganar más de 50 mil dólares por año?\n",
    "   - d. ¿Hay alguna relación con la cantidad de horas semanales trabajadas?\n",
    "\n",
    "**Video Explicativo**: Realiza un video de máximo 1 minuto donde presentes las conclusiones del trabajo. El video debe ser preciso y conciso, destacando los puntos más relevantes del análisis. \n"
   ]
  },
  {
   "cell_type": "markdown",
   "id": "5241c7c3-a103-42af-bb72-49e7324635ea",
   "metadata": {},
   "source": [
    "## Dataset Asignado\n",
    "Cargamos e importamos el dataset de <code>\"adult_data.csv\"</code>:\n"
   ]
  },
  {
   "cell_type": "code",
   "execution_count": 2,
   "id": "76ff92b8-ed7b-4e18-a98f-fd5f0ca02b8a",
   "metadata": {
    "scrolled": true
   },
   "outputs": [
    {
     "name": "stdout",
     "output_type": "stream",
     "text": [
      "Primeros valores del set de datos adul_data:\n",
      "   Age         Work_Class  fnlwgt   Education  Eduction_num  \\\n",
      "0   39          State-gov   77516   Bachelors          13.0   \n",
      "1   50   Self-emp-not-inc   83311   Bachelors          13.0   \n",
      "2   38            Private  215646     HS-grad           9.0   \n",
      "\n",
      "        Marital_status          Occupation    Relationship    Rice   Sex  \\\n",
      "0        Never-married        Adm-clerical   Not-in-family   White  Male   \n",
      "1   Married-civ-spouse     Exec-managerial         Husband   White  Male   \n",
      "2             Divorced   Handlers-cleaners   Not-in-family   White  Male   \n",
      "\n",
      "   Capital_gain  Capital_loss  Hours_per_week  Native_country   Class  \n",
      "0        2174.0           0.0            40.0   United-States   <=50K  \n",
      "1           0.0           0.0            13.0   United-States   <=50K  \n",
      "2           0.0           0.0            40.0   United-States   <=50K  \n",
      "\n",
      "Informacion sobre las variables:\n",
      "<class 'pandas.core.frame.DataFrame'>\n",
      "RangeIndex: 32561 entries, 0 to 32560\n",
      "Data columns (total 15 columns):\n",
      " #   Column          Non-Null Count  Dtype  \n",
      "---  ------          --------------  -----  \n",
      " 0   Age             32561 non-null  int64  \n",
      " 1   Work_Class      30725 non-null  object \n",
      " 2   fnlwgt          32561 non-null  int64  \n",
      " 3   Education       32561 non-null  object \n",
      " 4   Eduction_num    32531 non-null  float64\n",
      " 5   Marital_status  32561 non-null  object \n",
      " 6   Occupation      30718 non-null  object \n",
      " 7   Relationship    32561 non-null  object \n",
      " 8   Rice            32561 non-null  object \n",
      " 9   Sex             32561 non-null  object \n",
      " 10  Capital_gain    32551 non-null  float64\n",
      " 11  Capital_loss    32549 non-null  float64\n",
      " 12  Hours_per_week  32545 non-null  float64\n",
      " 13  Native_country  31978 non-null  object \n",
      " 14  Class           32561 non-null  object \n",
      "dtypes: float64(4), int64(2), object(9)\n",
      "memory usage: 3.7+ MB\n",
      "None\n"
     ]
    }
   ],
   "source": [
    "import pandas as pd\n",
    "import seaborn as sns\n",
    "import numpy as np\n",
    "import matplotlib.pyplot as plt\n",
    "from sklearn.preprocessing import StandardScaler\n",
    "\n",
    "df = pd.read_csv(\"adult_data.csv\",  sep=\";\")\n",
    "print(\"Primeros valores del set de datos adul_data:\")\n",
    "print(df.head(3))\n",
    "print(\"\\nInformacion sobre las variables:\")\n",
    "print(df.info())"
   ]
  },
  {
   "cell_type": "code",
   "execution_count": 3,
   "id": "6ab1e75f-78db-4b4c-ad35-59d364a4da83",
   "metadata": {
    "scrolled": true
   },
   "outputs": [
    {
     "name": "stdout",
     "output_type": "stream",
     "text": [
      "Resumen Estadístico:\n",
      "                 Age        fnlwgt  Eduction_num  Capital_gain  Capital_loss  \\\n",
      "count  32561.000000  3.256100e+04  32531.000000  32551.000000  32549.000000   \n",
      "mean      38.589325  1.897784e+05     10.080815   1077.979908     87.336016   \n",
      "std       13.693699  1.055500e+05      2.572948   7386.402293    403.031007   \n",
      "min       17.000000  1.228500e+04      1.000000      0.000000      0.000000   \n",
      "25%       28.000000  1.178270e+05      9.000000      0.000000      0.000000   \n",
      "50%       37.000000  1.783560e+05     10.000000      0.000000      0.000000   \n",
      "75%       48.000000  2.370510e+05     12.000000      0.000000      0.000000   \n",
      "max      190.000000  1.484705e+06     16.000000  99999.000000   4356.000000   \n",
      "\n",
      "       Hours_per_week  \n",
      "count    32545.000000  \n",
      "mean        40.436718  \n",
      "std         12.347939  \n",
      "min          1.000000  \n",
      "25%         40.000000  \n",
      "50%         40.000000  \n",
      "75%         45.000000  \n",
      "max         99.000000  \n"
     ]
    }
   ],
   "source": [
    "# estadisticas descriptivas\n",
    "estadistica = df.describe()\n",
    "print(\"Resumen Estadístico:\\n\", estadistica)"
   ]
  },
  {
   "cell_type": "markdown",
   "id": "07ce55a7-46c3-4d36-b782-de366b153a86",
   "metadata": {},
   "source": [
    "## Análisis y Respuesta de Preguntas:\n",
    "### 1. Verificacion de los datos"
   ]
  },
  {
   "cell_type": "code",
   "execution_count": 4,
   "id": "06aa2c03-a352-4c2a-be0b-56368670955e",
   "metadata": {},
   "outputs": [
    {
     "name": "stdout",
     "output_type": "stream",
     "text": [
      "Datos faltantes por columna:\n",
      "Work_Class        1836\n",
      "Eduction_num        30\n",
      "Occupation        1843\n",
      "Capital_gain        10\n",
      "Capital_loss        12\n",
      "Hours_per_week      16\n",
      "Native_country     583\n",
      "dtype: int64\n"
     ]
    }
   ],
   "source": [
    "# Verificar datos nulos\n",
    "faltantes = df.isnull().sum()\n",
    "print(\"Datos faltantes por columna:\")\n",
    "print(faltantes[faltantes > 0])  # Muestra solo las columnas con datos faltantes\n"
   ]
  },
  {
   "cell_type": "markdown",
   "id": "3126896b-776b-4c23-9135-cde0a40b66d3",
   "metadata": {},
   "source": [
    "De acuerdo con el resumen estadístico del conjunto de datos, los atributos como <code>fnlwgt, Capital_gain, Capital_loss y Hours_per_week</code> tienen una variabilidad considerable entre sus valores mínimos y máximos.\n",
    "\n",
    "Por ejemplo:\n",
    "\n",
    "<code>fnlwgt</code> tiene un rango entre 12,285 y 1,484,705.\n",
    "<code>Capital_gain</code> tiene un rango entre 0 y 99,999.\n",
    "<code>Hours_per_week</code> tiene un rango entre 1 y 99.\n",
    "Estos valores tienen diferencias en sus rangos, lo que puede afectar negativamente a algunos algoritmos. Es recomendable normalizar estos atributos."
   ]
  },
  {
   "cell_type": "code",
   "execution_count": 5,
   "id": "4a3d2819-c906-4817-b8d1-f0fabf7e590b",
   "metadata": {},
   "outputs": [
    {
     "name": "stdout",
     "output_type": "stream",
     "text": [
      "{'Sex': array(['Male', 'F', 'Female', 'M'], dtype=object), 'Rice': array([' White', ' Black', ' Asian-Pac-Islander', ' Amer-Indian-Eskimo',\n",
      "       ' Other'], dtype=object), 'Class': array([' <=50K', ' >50K'], dtype=object)}\n"
     ]
    }
   ],
   "source": [
    "# Revisar valores únicos para identificar posibles errores tipográficos\n",
    "unique_values = {\n",
    "    'Sex': df['Sex'].unique(),\n",
    "    'Rice': df['Rice'].unique(),  # Nota: parece ser un error tipográfico en lugar de \"Race\"\n",
    "    'Class': df['Class'].unique()\n",
    "}\n",
    "print(unique_values)"
   ]
  },
  {
   "cell_type": "markdown",
   "id": "c7cddf84-b7a5-4aab-85ce-02b9d22fc0d3",
   "metadata": {},
   "source": [
    "### 2. Relacion de los Campos\n",
    "   \n",
    "**Education:** Este campo contiene el nivel educativo descrito de manera textual. Los valores son categorías como \"Bachelors\", \"Masters\", \"HS-grad\", \"Doctorate\", etc.\n",
    "\n",
    "**Education_num:** Este campo es un valor numérico que representa el nivel educativo de manera cuantitativa. Un valor numérico más alto indica un nivel educativo más alto. Por ejemplo, un valor de \"13\" puede corresponder a un \"Bachelors\" o \"Undergraduate degree\", mientras que un valor de \"16\" podría corresponder a un \"Doctorate\" o \"PhD\".\n",
    "\n",
    "**Relación Esperada**\n",
    "La relación esperada es que los valores en la columna Education_num deben correlacionarse con los valores en la columna Education de manera lógica y consistente. \n",
    "\n",
    "**Verificación de la Relación entre las Columnas**\n",
    "\n",
    "Se verifica los valores en Education_num si son coherentes con los valores de Education mediante un análisis descriptivo:"
   ]
  },
  {
   "cell_type": "code",
   "execution_count": 6,
   "id": "a67c3514-67b9-4631-b746-1f698bc4b871",
   "metadata": {
    "scrolled": true
   },
   "outputs": [
    {
     "name": "stdout",
     "output_type": "stream",
     "text": [
      "             Eduction_num                   \n",
      "                      min   max  mean  count\n",
      "Education                                   \n",
      "Preschool             1.0   1.0   1.0     51\n",
      "1st-4th               2.0   2.0   2.0    168\n",
      "5th-6th               3.0   3.0   3.0    333\n",
      "7th-8th               4.0   4.0   4.0    646\n",
      "9th                   5.0   5.0   5.0    514\n",
      "10th                  6.0   6.0   6.0    931\n",
      "11th                  7.0   7.0   7.0   1174\n",
      "12th                  8.0   8.0   8.0    432\n",
      "HS-grad               9.0   9.0   9.0  10488\n",
      "Some-college         10.0  10.0  10.0   7284\n",
      "Assoc-voc            11.0  11.0  11.0   1382\n",
      "Assoc-acdm           12.0  12.0  12.0   1067\n",
      "Bachelors            13.0  13.0  13.0   5353\n",
      "Masters              14.0  14.0  14.0   1720\n",
      "Prof-school          15.0  15.0  15.0    576\n",
      "Doctorate            16.0  16.0  16.0    412\n"
     ]
    }
   ],
   "source": [
    "# Verificar la relación entre los dos campos 'Education' y 'Education_num'\n",
    "relation = df[['Education', 'Eduction_num']].groupby('Education').agg(\n",
    "    ['min', 'max', 'mean', 'count']).sort_values([('Eduction_num', 'mean')])\n",
    "\n",
    "print(relation)\n"
   ]
  },
  {
   "cell_type": "markdown",
   "id": "c027a885-6369-4e46-bfcc-85ba2f330a5c",
   "metadata": {},
   "source": [
    "Aquí se puede observar lo siguiente: La columna <code>Education_num</code> tiene un valor fijo para cada nivel educativo. \n",
    "\n",
    "Por ejemplo:\n",
    "- <code>Preschool</code> tiene un valor de 1.0\n",
    "- <code>Bachelors</code> tiene un valor de 13.0\n",
    "- <code>Doctorate</code> tiene un valor de 16.0\n",
    "\n",
    "Esto sugiere que la columna <code>Education_num</code> fue diseñada para proporcionar una representación numérica del nivel educativo.\n",
    "\n",
    "Repetición de valores: Para cada valor de <code>Education_num</code>, existe un conteo (count) que indica cuántas personas pertenecen a ese nivel educativo. Por ejemplo, <code>HS-grad</code> tiene 10,488 registros, lo que indica que es el nivel educativo más común en este conjunto de datos.\n",
    "\n",
    "Verificación de la consistencia: Los valores min, max, y mean para cada nivel educativo coinciden con los valores de <code>Education_num</code> asociados, lo que muestra que no hay inconsistencias entre las dos columnas."
   ]
  },
  {
   "cell_type": "markdown",
   "id": "88f2a7fe-e086-41a1-8b66-8fd260ed1dda",
   "metadata": {},
   "source": [
    "### 3. Reemplazo de valores faltantes\n",
    "\n",
    "Para las columnas específicas <code>Education_num</code> y <code>Capital_loss</code>, reemplazaremos los valores faltantes con el valor mínimo de cada columna:"
   ]
  },
  {
   "cell_type": "code",
   "execution_count": 7,
   "id": "8d5b8d4e-4b73-4572-9611-45b2df341de3",
   "metadata": {},
   "outputs": [
    {
     "data": {
      "text/plain": [
       "0        0.0\n",
       "1        0.0\n",
       "2        0.0\n",
       "3        0.0\n",
       "4        0.0\n",
       "        ... \n",
       "32556    0.0\n",
       "32557    0.0\n",
       "32558    0.0\n",
       "32559    0.0\n",
       "32560    0.0\n",
       "Name: Capital_loss, Length: 32561, dtype: float64"
      ]
     },
     "execution_count": 7,
     "metadata": {},
     "output_type": "execute_result"
    }
   ],
   "source": [
    "# Reemplazar valores faltantes en 'Education_num' con el valor mínimo\n",
    "df['Eduction_num'].fillna(df['Eduction_num'].min())\n",
    "\n",
    "# Reemplazar valores faltantes en 'Capital_loss' con el valor mínimo\n",
    "df['Capital_loss'].fillna(df['Capital_loss'].min())\n"
   ]
  },
  {
   "cell_type": "markdown",
   "id": "d87e0fe1-d84c-499b-af70-f27aa85586c7",
   "metadata": {},
   "source": [
    "Para el resto de las columnas numéricas que puedan tener valores faltantes, usaremos el valor promedio (media) de cada columna."
   ]
  },
  {
   "cell_type": "code",
   "execution_count": 8,
   "id": "c37d7ea2-5a97-48c8-b64c-da26f031c123",
   "metadata": {},
   "outputs": [
    {
     "name": "stdout",
     "output_type": "stream",
     "text": [
      "Age                  0\n",
      "Work_Class        1836\n",
      "fnlwgt               0\n",
      "Education            0\n",
      "Eduction_num         0\n",
      "Marital_status       0\n",
      "Occupation        1843\n",
      "Relationship         0\n",
      "Rice                 0\n",
      "Sex                  0\n",
      "Capital_gain         0\n",
      "Capital_loss         0\n",
      "Hours_per_week       0\n",
      "Native_country     583\n",
      "Class                0\n",
      "dtype: int64\n"
     ]
    }
   ],
   "source": [
    "# Seleccionar solo columnas numéricas\n",
    "numeric_columns = df.select_dtypes(include=['number']).columns\n",
    "\n",
    "# Reemplazar valores faltantes en las columnas numéricas con el valor promedio\n",
    "df[numeric_columns] = df[numeric_columns].fillna(df[numeric_columns].mean())\n",
    "\n",
    "# Verificar nuevamente si hay valores faltantes\n",
    "print(df.isnull().sum())\n"
   ]
  },
  {
   "cell_type": "markdown",
   "id": "e8c7b074-bc8f-4ea3-b7d6-3b9381f1523d",
   "metadata": {},
   "source": [
    "### 4. Generación de Atributos Nuevos\n",
    "Dado que las columnas <code>Work_Class</code>, <code>Occupation</code>, y <code>Native_country</code> tienen valores faltantes y son de tipo object (es decir, son categóricas o de texto), es necesario abordarlas de manera diferente que las columnas numéricas.\n",
    "\n",
    "Se reemplaza los valores faltantes en columnas categóricas con <code>\"Unknown\"</code> (desconocido):"
   ]
  },
  {
   "cell_type": "code",
   "execution_count": 9,
   "id": "9c1574d5-4da2-4daf-a12c-756acfd94253",
   "metadata": {},
   "outputs": [
    {
     "name": "stdout",
     "output_type": "stream",
     "text": [
      "Age               0\n",
      "Work_Class        0\n",
      "fnlwgt            0\n",
      "Education         0\n",
      "Eduction_num      0\n",
      "Marital_status    0\n",
      "Occupation        0\n",
      "Relationship      0\n",
      "Rice              0\n",
      "Sex               0\n",
      "Capital_gain      0\n",
      "Capital_loss      0\n",
      "Hours_per_week    0\n",
      "Native_country    0\n",
      "Class             0\n",
      "dtype: int64\n"
     ]
    }
   ],
   "source": [
    "# Reemplazar valores faltantes en columnas categóricas con 'Unknown'\n",
    "categorical_columns = df.select_dtypes(include=['object']).columns\n",
    "\n",
    "for col in categorical_columns:\n",
    "    df[col] = df[col].fillna('Unknown')\n",
    "\n",
    "# Verificar si hay valores faltantes después de hacer el reemplazo\n",
    "print(df.isnull().sum())\n"
   ]
  },
  {
   "cell_type": "markdown",
   "id": "9f6a3b44-8e8d-43a5-83c9-a93e38f78717",
   "metadata": {},
   "source": [
    "Reemplazar valores inconsistentes: Se reemplaza los valores inconsistentes en la columna Sex para que todos sigan un mismo formato (por ejemplo, 'Male' y 'Female' en lugar de 'M' y 'F').\n",
    "\n",
    "Revisar la columna Rice: Rice podría ser un error tipográfico y en realidad debería ser Race, se renombra la columna."
   ]
  },
  {
   "cell_type": "code",
   "execution_count": 10,
   "id": "5640769b-797a-4f74-b640-ad8db791eb34",
   "metadata": {},
   "outputs": [
    {
     "name": "stdout",
     "output_type": "stream",
     "text": [
      "\n",
      "Valores únicos corregidos:\n",
      "Sex      2\n",
      "Race     5\n",
      "Class    2\n",
      "dtype: int64\n",
      "\n",
      "Primeras filas después de las correcciones:\n",
      "   Age         Work_Class  fnlwgt   Education  Eduction_num  \\\n",
      "0   39          State-gov   77516   Bachelors          13.0   \n",
      "1   50   Self-emp-not-inc   83311   Bachelors          13.0   \n",
      "2   38            Private  215646     HS-grad           9.0   \n",
      "3   53            Private  234721        11th           7.0   \n",
      "4   28            Private  338409   Bachelors          13.0   \n",
      "\n",
      "        Marital_status          Occupation    Relationship    Race     Sex  \\\n",
      "0        Never-married        Adm-clerical   Not-in-family   White    Male   \n",
      "1   Married-civ-spouse     Exec-managerial         Husband   White    Male   \n",
      "2             Divorced   Handlers-cleaners   Not-in-family   White    Male   \n",
      "3   Married-civ-spouse   Handlers-cleaners         Husband   Black    Male   \n",
      "4   Married-civ-spouse      Prof-specialty            Wife   Black  Female   \n",
      "\n",
      "   Capital_gain  Capital_loss  Hours_per_week  Native_country   Class  \n",
      "0        2174.0           0.0            40.0   United-States   <=50K  \n",
      "1           0.0           0.0            13.0   United-States   <=50K  \n",
      "2           0.0           0.0            40.0   United-States   <=50K  \n",
      "3           0.0           0.0            40.0   United-States   <=50K  \n",
      "4           0.0           0.0            40.0            Cuba   <=50K  \n"
     ]
    }
   ],
   "source": [
    "# Corregir valores de la columna 'Sex' para que sean consistentes\n",
    "df['Sex'] = df['Sex'].replace({'M': 'Male', 'F': 'Female'})\n",
    "\n",
    "# Si 'Rice' es un error tipográfico, renombrarlo a 'Race'\n",
    "df.rename(columns={'Rice': 'Race'}, inplace=True)\n",
    "\n",
    "# Verificar si las correcciones fueron exitosas\n",
    "print(\"\\nValores únicos corregidos:\")\n",
    "print(df[['Sex', 'Race', 'Class']].nunique())\n",
    "print(\"\\nPrimeras filas después de las correcciones:\")\n",
    "print(df.head())"
   ]
  },
  {
   "cell_type": "markdown",
   "id": "55b157bc-6b68-443e-9c10-d1422678724c",
   "metadata": {},
   "source": [
    "Este filtro asegura que solo queden las filas en las que la edad sea 100 o menos. Esto elimina las edades inusuales, que podrían ser errores o datos extremos no representativos del conjunto de datos."
   ]
  },
  {
   "cell_type": "code",
   "execution_count": 16,
   "id": "a5a050f2-a375-45e7-ba49-7aae30521e2b",
   "metadata": {},
   "outputs": [],
   "source": [
    "# Eliminar las filas donde 'Age' es mayor a 100 años\n",
    "df = df[df['Age'] <= 100]\n"
   ]
  },
  {
   "cell_type": "markdown",
   "id": "ab02e1ca-e2f7-4c04-9def-bbb395dab3bc",
   "metadata": {},
   "source": [
    "Para usar el método del Interquartile Range (IQR) y detectar valores atípicos en las columnas Capital_gain y Capital_loss, se sigue estos pasos:\n",
    "\n",
    "El IQR es la diferencia entre el percentil 75 (Q3) y el percentil 25 (Q1) de los datos, y se utiliza para detectar valores atípicos. Los valores atípicos se consideran aquellos que están fuera del rango:"
   ]
  },
  {
   "cell_type": "code",
   "execution_count": 15,
   "id": "8d133632-a913-4cb7-a238-561c1098aca7",
   "metadata": {
    "scrolled": true
   },
   "outputs": [
    {
     "name": "stdout",
     "output_type": "stream",
     "text": [
      "Filas antes de filtrar: 31788\n",
      "Filas después de filtrar: 28309\n"
     ]
    }
   ],
   "source": [
    "# Calcular el IQR para 'Capital_gain' y 'Capital_loss'\n",
    "Q1_gain = df['Capital_gain'].quantile(0.25)\n",
    "Q3_gain = df['Capital_gain'].quantile(0.75)\n",
    "IQR_gain = Q3_gain - Q1_gain\n",
    "lower_bound_gain = Q1_gain - 1.5 * IQR_gain\n",
    "upper_bound_gain = Q3_gain + 1.5 * IQR_gain\n",
    "\n",
    "Q1_loss = df['Capital_loss'].quantile(0.25)\n",
    "Q3_loss = df['Capital_loss'].quantile(0.75)\n",
    "IQR_loss = Q3_loss - Q1_loss\n",
    "lower_bound_loss = Q1_loss - 1.5 * IQR_loss\n",
    "upper_bound_loss = Q3_loss + 1.5 * IQR_loss\n",
    "\n",
    "# Filtrar los datos para eliminar valores atípicos basados en IQR\n",
    "df_filtered = df[(df['Capital_gain'] >= lower_bound_gain) & (df['Capital_gain'] <= upper_bound_gain) &\n",
    "                 (df['Capital_loss'] >= lower_bound_loss) & (df['Capital_loss'] <= upper_bound_loss)]\n",
    "\n",
    "# Verificar el tamaño del dataframe filtrado\n",
    "print(f\"Filas antes de filtrar: {len(df)}\")\n",
    "print(f\"Filas después de filtrar: {len(df_filtered)}\")\n"
   ]
  },
  {
   "cell_type": "markdown",
   "id": "177d12dd-825c-4616-b94e-ecc692795a4f",
   "metadata": {},
   "source": [
    "## Discretización del Atributo Hours_per_week:"
   ]
  },
  {
   "cell_type": "code",
   "execution_count": 20,
   "id": "397b91f6-fec7-4599-b629-989023c49a8d",
   "metadata": {},
   "outputs": [
    {
     "name": "stdout",
     "output_type": "stream",
     "text": [
      "\n",
      "Distribución de 'Hours_per_week' en intervalos predefinidos:\n",
      "Hours_per_week_custom\n",
      "11-50    27622\n",
      "51-70     2964\n",
      "1-10       705\n",
      "71+        477\n",
      "Name: count, dtype: int64\n",
      "\n",
      "Primeras filas con las nuevas discretizaciones:\n",
      "   Hours_per_week Hours_per_week_custom\n",
      "0            40.0                 11-50\n",
      "1            13.0                 11-50\n",
      "2            40.0                 11-50\n",
      "3            40.0                 11-50\n",
      "4            40.0                 11-50\n"
     ]
    }
   ],
   "source": [
    "\n",
    "# Calcular el valor máximo de 'Hours_per_week'\n",
    "max_value = df['Hours_per_week'].max()\n",
    "\n",
    "# Definir los intervalos y etiquetas\n",
    "intervalos = [1, 10, 50, 70, max_value]\n",
    "etiquetas = ['1-10', '11-50', '51-70', '71+']\n",
    "\n",
    "# Aplicar la discretización en intervalos predefinidos\n",
    "df['Hours_per_week_custom'] = pd.cut(df['Hours_per_week'], bins=intervalos, labels=etiquetas, right=True)\n",
    "\n",
    "# Mostrar la distribución de los intervalos\n",
    "print(\"\\nDistribución de 'Hours_per_week' en intervalos predefinidos:\")\n",
    "print(df['Hours_per_week_custom'].value_counts())\n",
    "\n",
    "# Mostrar algunas filas con las nuevas discretizaciones\n",
    "print(\"\\nPrimeras filas con las nuevas discretizaciones:\")\n",
    "print(df[['Hours_per_week', 'Hours_per_week_custom']].head())\n",
    "\n"
   ]
  },
  {
   "cell_type": "markdown",
   "id": "857f8c21-c401-4fd8-acee-8bd7751611e1",
   "metadata": {},
   "source": [
    "Mayor concentración en el rango 11-50 horas: La gran mayoría de los individuos parecen estar en un rango de trabajo de tiempo completo, lo que es bastante representativo de muchas ocupaciones. Este patrón es normal en trabajos convencionales y también puede indicar un sesgo hacia trabajos más tradicionales.\n",
    "\n",
    "Menor proporción de individuos en intervalos de alta carga laboral (71+ horas): Aunque el grupo que trabaja más de 70 horas es pequeño, es importante analizarlo más a fondo. Los individuos en este rango podrían estar enfrentando situaciones extremas, lo que podría derivar en problemas de bienestar o salud laboral si las horas extras son recurrentes."
   ]
  },
  {
   "cell_type": "markdown",
   "id": "f1780d2c-e768-4b83-8adc-9e7f69865d07",
   "metadata": {},
   "source": [
    "### Normalizacion y Outliers restantes\n",
    "Antes de LLegar al proceso de Visualizacion apliqué normalización y filtro de outliers para luego llegar a graficar los diagramas de dispersión:\n",
    "\n",
    "**Filtrar outliers**: Utilizaremos el IQR (Interquartile Range) para detectar y eliminar los outliers de las columnas relevantes antes de graficar.\n",
    "\n",
    "**Normalización**: Aplicaremos la normalización (usando StandardScaler de sklearn) a las columnas numéricas para ajustar la escala de las variables y tenerlas en el mismo rango.\n",
    "\n",
    "**Graficar los diagramas de dispersión**: Una vez filtrados los outliers y normalizados los datos, graficaremos los diagramas de dispersión solicitados.\n",
    "\n",
    "\n",
    "### Paso 1: Filtrar Outliers usando el IQR\n",
    "Primero, identificamos y eliminamos los outliers utilizando el IQR para las columnas relevantes (Age, Eduction_num, Hours_per_week)."
   ]
  },
  {
   "cell_type": "code",
   "execution_count": 44,
   "id": "1921d3ef-c6de-4d19-a68d-ffa78ef908e6",
   "metadata": {},
   "outputs": [
    {
     "name": "stdout",
     "output_type": "stream",
     "text": [
      "Datos después de filtrar outliers: (22129, 16)\n"
     ]
    }
   ],
   "source": [
    "# Filtrar Outliers usando el IQR\n",
    "# Calcular el IQR para las columnas relevantes\n",
    "Q1 = df[['Age', 'Eduction_num', 'Hours_per_week']].quantile(0.25)\n",
    "Q3 = df[['Age', 'Eduction_num', 'Hours_per_week']].quantile(0.75)\n",
    "IQR = Q3 - Q1\n",
    "\n",
    "# Filtrar los outliers\n",
    "df_clean = df[~((df[['Age', 'Eduction_num', 'Hours_per_week']] < (Q1 - 1.5 * IQR)) | (df[['Age', 'Eduction_num', 'Hours_per_week']] > (Q3 + 1.5 * IQR))).any(axis=1)]\n",
    "\n",
    "# Verificar los cambios\n",
    "print(f\"Datos después de filtrar outliers: {df_clean.shape}\")"
   ]
  },
  {
   "cell_type": "markdown",
   "id": "2e55a930-ab86-4867-9ce1-f64e05f343bf",
   "metadata": {},
   "source": [
    "### Paso 2: Normalización de las columnas numéricas\n",
    "Una vez filtrados los outliers, aplicaremos la normalización a las columnas de interés (Age, Eduction_num, Hours_per_week) utilizando el StandardScaler."
   ]
  },
  {
   "cell_type": "code",
   "execution_count": 45,
   "id": "bd423bee-b0b1-456f-be60-748e5054b307",
   "metadata": {},
   "outputs": [
    {
     "name": "stdout",
     "output_type": "stream",
     "text": [
      "        Age  Eduction_num  Hours_per_week\n",
      "0  0.054589      1.234371       -0.388415\n",
      "2 -0.028762     -0.602257       -0.388415\n",
      "3  1.221503     -1.520572       -0.388415\n",
      "4 -0.862272      1.234371       -0.388415\n",
      "5 -0.112113      1.693528       -0.388415\n"
     ]
    },
    {
     "name": "stderr",
     "output_type": "stream",
     "text": [
      "C:\\Users\\Ever\\AppData\\Local\\Temp\\ipykernel_18620\\887575234.py:7: SettingWithCopyWarning: \n",
      "A value is trying to be set on a copy of a slice from a DataFrame.\n",
      "Try using .loc[row_indexer,col_indexer] = value instead\n",
      "\n",
      "See the caveats in the documentation: https://pandas.pydata.org/pandas-docs/stable/user_guide/indexing.html#returning-a-view-versus-a-copy\n",
      "  df_clean[['Age', 'Eduction_num', 'Hours_per_week']] = scaler.fit_transform(df_clean[['Age', 'Eduction_num', 'Hours_per_week']])\n"
     ]
    }
   ],
   "source": [
    "from sklearn.preprocessing import StandardScaler\n",
    "\n",
    "# Inicializar el scaler\n",
    "scaler = StandardScaler()\n",
    "\n",
    "# Normalizar las columnas\n",
    "df_clean[['Age', 'Eduction_num', 'Hours_per_week']] = scaler.fit_transform(df_clean[['Age', 'Eduction_num', 'Hours_per_week']])\n",
    "\n",
    "# Verificar la normalización\n",
    "print(df_clean[['Age', 'Eduction_num', 'Hours_per_week']].head())\n"
   ]
  },
  {
   "cell_type": "markdown",
   "id": "e47bdeae-9324-426c-9450-bed10f9c7c62",
   "metadata": {},
   "source": [
    "## 4. Análisis de Atributos Seleccionados:\n",
    "\n",
    "Ahora que tenemos los datos filtrados y normalizados, podemos crear los diagramas de dispersión para las relaciones solicitadas: Edad vs. Clase, Nivel Educativo vs. Clase, y Horas por Semana vs. Clase."
   ]
  },
  {
   "cell_type": "code",
   "execution_count": 71,
   "id": "d7861185-750d-403c-a791-0762d1d73edf",
   "metadata": {
    "scrolled": true
   },
   "outputs": [
    {
     "name": "stderr",
     "output_type": "stream",
     "text": [
      "C:\\Users\\Ever\\AppData\\Local\\Temp\\ipykernel_18620\\2525454797.py:3: FutureWarning: \n",
      "\n",
      "Passing `palette` without assigning `hue` is deprecated and will be removed in v0.14.0. Assign the `x` variable to `hue` and set `legend=False` for the same effect.\n",
      "\n",
      "  sns.boxplot(x='Class', y='Age', data=df_clean, palette='viridis')\n"
     ]
    },
    {
     "data": {
      "image/png": "[encoded data removed]",
      "text/plain": [
       "<Figure size 1000x600 with 1 Axes>"
      ]
     },
     "metadata": {},
     "output_type": "display_data"
    }
   ],
   "source": [
    "# Diagrama de cajas para Edad por Clase de Ingreso\n",
    "plt.figure(figsize=(10, 6))\n",
    "sns.boxplot(x='Class', y='Age', data=df_clean, palette='viridis')\n",
    "plt.title(\"Distribución de Edad según Clase de Ingreso\", fontsize=18)\n",
    "plt.xlabel(\"Clase de Ingreso\", fontsize=16)\n",
    "plt.ylabel(\"Edad\", fontsize=16)\n",
    "plt.show()"
   ]
  },
  {
   "cell_type": "code",
   "execution_count": 72,
   "id": "8f5ff487-d6d7-4057-9bab-f2e60614a1de",
   "metadata": {},
   "outputs": [
    {
     "name": "stderr",
     "output_type": "stream",
     "text": [
      "C:\\Users\\Ever\\AppData\\Local\\Temp\\ipykernel_18620\\1496632594.py:3: FutureWarning: \n",
      "\n",
      "Passing `palette` without assigning `hue` is deprecated and will be removed in v0.14.0. Assign the `x` variable to `hue` and set `legend=False` for the same effect.\n",
      "\n",
      "  sns.boxplot(x='Class', y='Eduction_num', data=df_clean, palette='viridis')\n"
     ]
    },
    {
     "data": {
      "image/png": "[encoded data removed]",
      "text/plain": [
       "<Figure size 1000x600 with 1 Axes>"
      ]
     },
     "metadata": {},
     "output_type": "display_data"
    }
   ],
   "source": [
    "\n",
    "# Diagrama de cajas para Nivel Educativo por Clase de Ingreso\n",
    "plt.figure(figsize=(10, 6))\n",
    "sns.boxplot(x='Class', y='Eduction_num', data=df_clean, palette='viridis')\n",
    "plt.title(\"Distribución de Nivel Educativo según Clase de Ingreso\", fontsize=18)\n",
    "plt.xlabel(\"Clase de Ingreso\", fontsize=16)\n",
    "plt.ylabel(\"Nivel Educativo\", fontsize=16)\n",
    "plt.show()\n"
   ]
  },
  {
   "cell_type": "code",
   "execution_count": 75,
   "id": "3bb98e33-0832-4d46-bb3c-74fbd3cbf3c6",
   "metadata": {},
   "outputs": [
    {
     "name": "stderr",
     "output_type": "stream",
     "text": [
      "C:\\Users\\Ever\\AppData\\Local\\Temp\\ipykernel_18620\\2466603031.py:3: FutureWarning: \n",
      "\n",
      "Passing `palette` without assigning `hue` is deprecated and will be removed in v0.14.0. Assign the `x` variable to `hue` and set `legend=False` for the same effect.\n",
      "\n",
      "  sns.violinplot(x='Class', y='Hours_per_week', data=df_clean, palette='viridis')\n"
     ]
    },
    {
     "data": {
      "image/png": "[encoded data removed]",
      "text/plain": [
       "<Figure size 1000x600 with 1 Axes>"
      ]
     },
     "metadata": {},
     "output_type": "display_data"
    }
   ],
   "source": [
    "# Violin plot para Horas por Semana por Clase de Ingreso\n",
    "plt.figure(figsize=(10, 6))\n",
    "sns.violinplot(x='Class', y='Hours_per_week', data=df_clean, palette='viridis')\n",
    "plt.title(\"Distribución de Horas por Semana según Clase de Ingreso\", fontsize=18)\n",
    "plt.xlabel(\"Clase de Ingreso\", fontsize=16)\n",
    "plt.ylabel(\"Horas por Semana\", fontsize=16)\n",
    "plt.show()"
   ]
  },
  {
   "cell_type": "markdown",
   "id": "0959a67a-9138-4031-ab4a-53d4ceb4d279",
   "metadata": {},
   "source": [
    "### Análisis de las Preguntas\n",
    "- a. ¿Qué puedes decir de las edades con respecto a la ganancia anual?\n",
    "  \n",
    "**Interpretación**: En el diagrama de cajas de Edad vs Clase de Ingreso, podemos observar cómo se distribuyen las edades de las personas que ganan más de 50K y las que ganan menos de 50K.\n",
    "Si vemos que las personas con ingresos más altos tienden a ser mayores, esto podría indicar que hay una relación entre la experiencia laboral y los ingresos. En cambio, si los jóvenes tienden a estar más concentrados en el grupo de menores ingresos, esto puede sugerir que los ingresos más altos están asociados a una mayor experiencia o antigüedad laboral.\n",
    "\n",
    "- b. ¿Puedes afirmar que las personas que poseen un nivel educativo por debajo de 8 y que trabajan menos de 40 horas no ganan más de 50 mil dólares por año?\n",
    "\n",
    "**Interpretación**: El diagrama de Nivel Educativo vs Clase de Ingreso y Horas por Semana vs Clase de Ingreso nos puede ayudar a responder esta pregunta.\n",
    "Si la mayoría de las personas con un nivel educativo por debajo de 8 (y menos de 40 horas trabajadas) están en el grupo de ingresos menores a 50K, podríamos asumir que existe una fuerte correlación entre estos factores. Sin embargo, sería importante corroborar este patrón visualizando las estadísticas del dataset y calculando la cantidad de registros que cumplen con estas condiciones.\n",
    "\n",
    "- c. ¿Existe alguna relación entre el nivel educativo y el hecho de ganar más de 50 mil dólares por año?\n",
    "\n",
    "**Interpretación**: En el gráfico de Nivel Educativo vs Clase de Ingreso, podemos observar si las personas con niveles educativos más altos tienden a estar más frecuentemente en el grupo de ingresos superiores a 50K.\n",
    "Si existe un patrón claro donde las personas con niveles educativos más altos están mayormente en el grupo de ingresos mayores a 50K, esto podría sugerir que el nivel educativo tiene un impacto significativo sobre los ingresos.\n",
    "\n",
    "- d. ¿Hay alguna relación con la cantidad de horas semanales trabajadas?\n",
    "  \n",
    "**Interpretación**: Si, ya que en el gráfico de Horas por Semana vs Clase de Ingreso, podemos ver si las personas que trabajan más de 40 horas por semana tienden a estar más frecuentemente en el grupo con ingresos mayores a 50K.\n",
    "Aparte, por ejemplo, se observa una mayor densidad en Horas por Semana para la clase >50K en valores altos, esto puede indicar que trabajar más horas está asociado con ingresos más altos."
   ]
  },
  {
   "cell_type": "code",
   "execution_count": null,
   "id": "84be8969-d70a-4e61-862a-ffd4968ec47c",
   "metadata": {},
   "outputs": [],
   "source": []
  }
 ],
 "metadata": {
  "kernelspec": {
   "display_name": "Python 3 (ipykernel)",
   "language": "python",
   "name": "python3"
  },
  "language_info": {
   "codemirror_mode": {
    "name": "ipython",
    "version": 3
   },
   "file_extension": ".py",
   "mimetype": "text/x-python",
   "name": "python",
   "nbconvert_exporter": "python",
   "pygments_lexer": "ipython3",
   "version": "3.12.3"
  }
 },
 "nbformat": 4,
 "nbformat_minor": 5
}
