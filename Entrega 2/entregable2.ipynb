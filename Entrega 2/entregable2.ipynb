{
 "cells": [
  {
   "cell_type": "markdown",
   "id": "6d3d1ac1-23c6-4b38-9fc5-51352eb969bf",
   "metadata": {},
   "source": [
    "# **Segunda Actividad Integradora**\n",
    "\n",
    "## <font color=\"yellow\">Objetivo</font> \n",
    "Aplicar los conceptos aprendidos en el curso de Minería de Datos para realizar un análisis integral de un dataset real utilizando diversas técnicas de preprocesamiento y análisis exploratorio de datos. Esta actividad busca evaluar la capacidad del estudiante para aplicar conocimientos de manejo de datos, discretización, análisis y visualización para extraer información relevante, y comunicar sus hallazgos de manera clara y concisa.\n",
    "\n",
    "## <font color=\"yellow\">Instrucciones</font>\n",
    "**1. Dataset Asignado:**\n",
    "\n",
    "Utiliza el dataset \"Adult\" proporcionado por el docente. Este dataset contiene información recolectada durante un censo realizado en 1994 en Estados Unidos con el fin de determinar las características de las personas en relación a si ganan más de U$D 50,000 al año o no. El archivo adult_data.xls posee datos de 32,561 personas, y algunos de sus atributos son: \n",
    "- Edad, sexo, estado civil, nivel educativo\n",
    "- Tipo de trabajo, número de horas semanales que trabaja\n",
    "- Raza, país de origen o Capital.\n",
    "\n",
    "**2. Análisis y Respuesta de Preguntas:**\n",
    "   1. Verificación de Datos:\n",
    "      - a. Verifica si la base de datos posee atributos con datos faltantes.\n",
    "      - b. Verifica si existen atributos que necesiten normalización de sus valores. \n",
    "      - c. Identifica si hay atributos con valores inválidos.\n",
    "   2. Relación de Campos: El nivel educativo de la persona está indicado en dos campos: Education y Education_num. Analiza cómo se relacionan estos dos atributos y documenta tus hallazgos.\n",
    "   3. Reemplazo de Valores Faltantes:\n",
    "      - a. Completa los valores faltantes de los atributos Education_num y Capital_Loss con el valor mínimo.\n",
    "      - b. Completa el resto de los atributos que presenten valores faltantes con su correspondiente valor promedio.\n",
    "   4. Generación de Atributos Nuevos: Genera atributos nuevos para solucionar los problemas encontrados en los incisos 1b y 1c.\n",
    "      \n",
    "**3. Discretización del Atributo Hours_per_week:** \n",
    "\n",
    "Realiza tres discretizaciones diferentes del atributo Hours_per_week y compara los resultados obtenidos:\n",
    "   - a. En cuatro intervalos por partes iguales.\n",
    "   - b. En los siguientes cuatro intervalos: [1..10], [11..50], [51..70], [71..MAX].\n",
    "     \n",
    "**4. Análisis de Atributos Seleccionados:**\n",
    "- Selecciona los atributos: Edad, Education_num, Hours_per_week y Class. Realiza todos los posibles diagramas de dispersión utilizando la opción Scatter tomando al atributo Class como atributo para colorear. \n",
    "- Analiza los distintos diagramas y relaciona los atributos.\n",
    "   - a. ¿Qué puedes decir de las edades con respecto a la ganancia anual?\n",
    "   - b. ¿Puedes afirmar que las personas que poseen un nivel educativo por debajo de 8 y que trabajan menos de 40 horas no ganan más de 50 mil dólares por año?\n",
    "   - c. ¿Existe alguna relación entre el nivel educativo y el hecho de ganar más de 50 mil dólares por año?\n",
    "   - d. ¿Hay alguna relación con la cantidad de horas semanales trabajadas?\n",
    "\n",
    "**Video Explicativo**: Realiza un video de máximo 1 minuto donde presentes las conclusiones del trabajo. El video debe ser preciso y conciso, destacando los puntos más relevantes del análisis. \n"
   ]
  },
  {
   "cell_type": "markdown",
   "id": "5241c7c3-a103-42af-bb72-49e7324635ea",
   "metadata": {
    "jp-MarkdownHeadingCollapsed": true
   },
   "source": [
    "## 1. Dataset Asignado\n",
    "Cargamos e importamos el dataset de <code>\"adult_data.csv\"</code>:\n"
   ]
  },
  {
   "cell_type": "code",
   "execution_count": 45,
   "id": "76ff92b8-ed7b-4e18-a98f-fd5f0ca02b8a",
   "metadata": {
    "scrolled": true
   },
   "outputs": [
    {
     "name": "stdout",
     "output_type": "stream",
     "text": [
      "Primeros valores del set de datos adul_data:\n",
      "   Age         Work_Class  fnlwgt   Education  Eduction_num  \\\n",
      "0   39          State-gov   77516   Bachelors          13.0   \n",
      "1   50   Self-emp-not-inc   83311   Bachelors          13.0   \n",
      "2   38            Private  215646     HS-grad           9.0   \n",
      "\n",
      "        Marital_status          Occupation    Relationship    Rice   Sex  \\\n",
      "0        Never-married        Adm-clerical   Not-in-family   White  Male   \n",
      "1   Married-civ-spouse     Exec-managerial         Husband   White  Male   \n",
      "2             Divorced   Handlers-cleaners   Not-in-family   White  Male   \n",
      "\n",
      "   Capital_gain  Capital_loss  Hours_per_week  Native_country   Class  \n",
      "0        2174.0           0.0            40.0   United-States   <=50K  \n",
      "1           0.0           0.0            13.0   United-States   <=50K  \n",
      "2           0.0           0.0            40.0   United-States   <=50K  \n",
      "\n",
      "Informacion sobre las variables:\n",
      "<class 'pandas.core.frame.DataFrame'>\n",
      "RangeIndex: 32561 entries, 0 to 32560\n",
      "Data columns (total 15 columns):\n",
      " #   Column          Non-Null Count  Dtype  \n",
      "---  ------          --------------  -----  \n",
      " 0   Age             32561 non-null  int64  \n",
      " 1   Work_Class      30725 non-null  object \n",
      " 2   fnlwgt          32561 non-null  int64  \n",
      " 3   Education       32561 non-null  object \n",
      " 4   Eduction_num    32531 non-null  float64\n",
      " 5   Marital_status  32561 non-null  object \n",
      " 6   Occupation      30718 non-null  object \n",
      " 7   Relationship    32561 non-null  object \n",
      " 8   Rice            32561 non-null  object \n",
      " 9   Sex             32561 non-null  object \n",
      " 10  Capital_gain    32551 non-null  float64\n",
      " 11  Capital_loss    32549 non-null  float64\n",
      " 12  Hours_per_week  32545 non-null  float64\n",
      " 13  Native_country  31978 non-null  object \n",
      " 14  Class           32561 non-null  object \n",
      "dtypes: float64(4), int64(2), object(9)\n",
      "memory usage: 3.7+ MB\n",
      "None\n"
     ]
    }
   ],
   "source": [
    "import pandas as df\n",
    "\n",
    "df = df.read_csv(\"adult_data.csv\",  sep=\";\")\n",
    "print(\"Primeros valores del set de datos adul_data:\")\n",
    "print(df.head(3))\n",
    "print(\"\\nInformacion sobre las variables:\")\n",
    "print(df.info())"
   ]
  },
  {
   "cell_type": "code",
   "execution_count": 37,
   "id": "6ab1e75f-78db-4b4c-ad35-59d364a4da83",
   "metadata": {},
   "outputs": [
    {
     "name": "stdout",
     "output_type": "stream",
     "text": [
      "Resumen Estadístico:\n",
      "                 Age        fnlwgt  Eduction_num  Capital_gain  Capital_loss  \\\n",
      "count  32561.000000  3.256100e+04  32561.000000  32561.000000  32561.000000   \n",
      "mean      38.589325  1.897784e+05     10.080956   1077.648844     87.303830   \n",
      "std       13.693699  1.055500e+05      2.572177   7385.292085    402.960219   \n",
      "min       17.000000  1.228500e+04      1.000000      0.000000      0.000000   \n",
      "25%       28.000000  1.178270e+05      9.000000      0.000000      0.000000   \n",
      "50%       37.000000  1.783560e+05     10.000000      0.000000      0.000000   \n",
      "75%       48.000000  2.370510e+05     12.000000      0.000000      0.000000   \n",
      "max      190.000000  1.484705e+06     16.000000  99999.000000   4356.000000   \n",
      "\n",
      "       Hours_per_week  \n",
      "count    32561.000000  \n",
      "mean        40.435122  \n",
      "std         12.347029  \n",
      "min          1.000000  \n",
      "25%         40.000000  \n",
      "50%         40.000000  \n",
      "75%         45.000000  \n",
      "max         99.000000  \n"
     ]
    }
   ],
   "source": [
    "# estadisticas descriptivas\n",
    "estadistica = df.describe()\n",
    "print(\"Resumen Estadístico:\\n\", estadistica)"
   ]
  },
  {
   "cell_type": "markdown",
   "id": "07ce55a7-46c3-4d36-b782-de366b153a86",
   "metadata": {},
   "source": [
    "## 2. Análisis y Respuesta de Preguntas:\n",
    "- Se verifica si la base de datos posee atributos con datos faltantes:\n",
    "- Verifica si existen atributos que necesiten normalización de sus valores. \n",
    "- Identifica si hay atributos con valores inválidos."
   ]
  },
  {
   "cell_type": "code",
   "execution_count": 38,
   "id": "16360039-234e-42df-94a6-03ae2b2f5612",
   "metadata": {},
   "outputs": [
    {
     "name": "stdout",
     "output_type": "stream",
     "text": [
      "Datos faltantes por columna:\n",
      "Work_Class        1836\n",
      "Occupation        1843\n",
      "Native_country     583\n",
      "dtype: int64\n"
     ]
    }
   ],
   "source": [
    "# Verificar datos faltantes\n",
    "faltantes = df.isnull().sum()\n",
    "print(\"Datos faltantes por columna:\")\n",
    "print(faltantes[faltantes > 0])  # Muestra solo las columnas con datos faltantes\n"
   ]
  },
  {
   "cell_type": "code",
   "execution_count": 20,
   "id": "8ff1822c-b0eb-41c9-b6a7-0d148c740dce",
   "metadata": {},
   "outputs": [
    {
     "name": "stdout",
     "output_type": "stream",
     "text": [
      "Número de filas duplicadas: 23\n"
     ]
    }
   ],
   "source": [
    "# Comprobar si hay valores a normalizar\n",
    "duplicados = df.duplicated().sum()\n",
    "print(\"Número de filas duplicadas:\", duplicados)"
   ]
  },
  {
   "cell_type": "code",
   "execution_count": null,
   "id": "1f9a5496-3e66-4de6-9deb-c6cd082cb0b9",
   "metadata": {},
   "outputs": [],
   "source": []
  }
 ],
 "metadata": {
  "kernelspec": {
   "display_name": "Python 3 (ipykernel)",
   "language": "python",
   "name": "python3"
  },
  "language_info": {
   "codemirror_mode": {
    "name": "ipython",
    "version": 3
   },
   "file_extension": ".py",
   "mimetype": "text/x-python",
   "name": "python",
   "nbconvert_exporter": "python",
   "pygments_lexer": "ipython3",
   "version": "3.12.7"
  }
 },
 "nbformat": 4,
 "nbformat_minor": 5
}
