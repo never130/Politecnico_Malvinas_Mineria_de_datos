{
 "cells": [
  {
   "cell_type": "markdown",
   "id": "6d3d1ac1-23c6-4b38-9fc5-51352eb969bf",
   "metadata": {},
   "source": [
    "# **Segunda Actividad Integradora**\n",
    "\n",
    "## <font color=\"yellow\">Objetivo</font> \n",
    "Aplicar los conceptos aprendidos en el curso de Minería de Datos para realizar un análisis integral de un dataset real utilizando diversas técnicas de preprocesamiento y análisis exploratorio de datos. Esta actividad busca evaluar la capacidad del estudiante para aplicar conocimientos de manejo de datos, discretización, análisis y visualización para extraer información relevante, y comunicar sus hallazgos de manera clara y concisa.\n",
    "\n",
    "## <font color=\"yellow\">Instrucciones</font>\n",
    "**1. Dataset Asignado:**\n",
    "\n",
    "Utiliza el dataset \"Adult\" proporcionado por el docente. Este dataset contiene información recolectada durante un censo realizado en 1994 en Estados Unidos con el fin de determinar las características de las personas en relación a si ganan más de U$D 50,000 al año o no. El archivo adult_data.xls posee datos de 32,561 personas, y algunos de sus atributos son: \n",
    "- Edad, sexo, estado civil, nivel educativo\n",
    "- Tipo de trabajo, número de horas semanales que trabaja\n",
    "- Raza, país de origen o Capital.\n",
    "\n",
    "**2. Análisis y Respuesta de Preguntas:**\n",
    "   1. Verificación de Datos:\n",
    "      - a. Verifica si la base de datos posee atributos con datos faltantes.\n",
    "      - b. Verifica si existen atributos que necesiten normalización de sus valores. \n",
    "      - c. Identifica si hay atributos con valores inválidos.\n",
    "   2. Relación de Campos: El nivel educativo de la persona está indicado en dos campos: Education y Education_num. Analiza cómo se relacionan estos dos atributos y documenta tus hallazgos.\n",
    "   3. Reemplazo de Valores Faltantes:\n",
    "      - a. Completa los valores faltantes de los atributos Education_num y Capital_Loss con el valor mínimo.\n",
    "      - b. Completa el resto de los atributos que presenten valores faltantes con su correspondiente valor promedio.\n",
    "   4. Generación de Atributos Nuevos: Genera atributos nuevos para solucionar los problemas encontrados en los incisos 1b y 1c.\n",
    "      \n",
    "**3. Discretización del Atributo Hours_per_week:** \n",
    "\n",
    "Realiza tres discretizaciones diferentes del atributo Hours_per_week y compara los resultados obtenidos:\n",
    "   - a. En cuatro intervalos por partes iguales.\n",
    "   - b. En los siguientes cuatro intervalos: [1..10], [11..50], [51..70], [71..MAX].\n",
    "     \n",
    "**4. Análisis de Atributos Seleccionados:**\n",
    "- Selecciona los atributos: Edad, Education_num, Hours_per_week y Class. Realiza todos los posibles diagramas de dispersión utilizando la opción Scatter tomando al atributo Class como atributo para colorear. \n",
    "- Analiza los distintos diagramas y relaciona los atributos.\n",
    "   - a. ¿Qué puedes decir de las edades con respecto a la ganancia anual?\n",
    "   - b. ¿Puedes afirmar que las personas que poseen un nivel educativo por debajo de 8 y que trabajan menos de 40 horas no ganan más de 50 mil dólares por año?\n",
    "   - c. ¿Existe alguna relación entre el nivel educativo y el hecho de ganar más de 50 mil dólares por año?\n",
    "   - d. ¿Hay alguna relación con la cantidad de horas semanales trabajadas?\n",
    "\n",
    "**Video Explicativo**: Realiza un video de máximo 1 minuto donde presentes las conclusiones del trabajo. El video debe ser preciso y conciso, destacando los puntos más relevantes del análisis. \n"
   ]
  },
  {
   "cell_type": "markdown",
   "id": "5241c7c3-a103-42af-bb72-49e7324635ea",
   "metadata": {},
   "source": [
    "## Dataset Asignado\n",
    "Cargamos e importamos el dataset de <code>\"adult_data.csv\"</code>:\n"
   ]
  },
  {
   "cell_type": "code",
   "execution_count": 35,
   "id": "76ff92b8-ed7b-4e18-a98f-fd5f0ca02b8a",
   "metadata": {
    "scrolled": true
   },
   "outputs": [
    {
     "name": "stdout",
     "output_type": "stream",
     "text": [
      "Primeros valores del set de datos adul_data:\n",
      "   Age         Work_Class  fnlwgt   Education  Eduction_num  \\\n",
      "0   39          State-gov   77516   Bachelors          13.0   \n",
      "1   50   Self-emp-not-inc   83311   Bachelors          13.0   \n",
      "2   38            Private  215646     HS-grad           9.0   \n",
      "\n",
      "        Marital_status          Occupation    Relationship    Rice   Sex  \\\n",
      "0        Never-married        Adm-clerical   Not-in-family   White  Male   \n",
      "1   Married-civ-spouse     Exec-managerial         Husband   White  Male   \n",
      "2             Divorced   Handlers-cleaners   Not-in-family   White  Male   \n",
      "\n",
      "   Capital_gain  Capital_loss  Hours_per_week  Native_country   Class  \n",
      "0        2174.0           0.0            40.0   United-States   <=50K  \n",
      "1           0.0           0.0            13.0   United-States   <=50K  \n",
      "2           0.0           0.0            40.0   United-States   <=50K  \n",
      "\n",
      "Informacion sobre las variables:\n",
      "<class 'pandas.core.frame.DataFrame'>\n",
      "RangeIndex: 32561 entries, 0 to 32560\n",
      "Data columns (total 15 columns):\n",
      " #   Column          Non-Null Count  Dtype  \n",
      "---  ------          --------------  -----  \n",
      " 0   Age             32561 non-null  int64  \n",
      " 1   Work_Class      30725 non-null  object \n",
      " 2   fnlwgt          32561 non-null  int64  \n",
      " 3   Education       32561 non-null  object \n",
      " 4   Eduction_num    32531 non-null  float64\n",
      " 5   Marital_status  32561 non-null  object \n",
      " 6   Occupation      30718 non-null  object \n",
      " 7   Relationship    32561 non-null  object \n",
      " 8   Rice            32561 non-null  object \n",
      " 9   Sex             32561 non-null  object \n",
      " 10  Capital_gain    32551 non-null  float64\n",
      " 11  Capital_loss    32549 non-null  float64\n",
      " 12  Hours_per_week  32545 non-null  float64\n",
      " 13  Native_country  31978 non-null  object \n",
      " 14  Class           32561 non-null  object \n",
      "dtypes: float64(4), int64(2), object(9)\n",
      "memory usage: 3.7+ MB\n",
      "None\n"
     ]
    }
   ],
   "source": [
    "import pandas as df\n",
    "import seaborn as sns\n",
    "\n",
    "df = pd.read_csv(\"adult_data.csv\",  sep=\";\")\n",
    "print(\"Primeros valores del set de datos adul_data:\")\n",
    "print(df.head(3))\n",
    "print(\"\\nInformacion sobre las variables:\")\n",
    "print(df.info())"
   ]
  },
  {
   "cell_type": "code",
   "execution_count": 36,
   "id": "6ab1e75f-78db-4b4c-ad35-59d364a4da83",
   "metadata": {
    "scrolled": true
   },
   "outputs": [
    {
     "name": "stdout",
     "output_type": "stream",
     "text": [
      "Resumen Estadístico:\n",
      "                 Age        fnlwgt  Eduction_num  Capital_gain  Capital_loss  \\\n",
      "count  32561.000000  3.256100e+04  32531.000000  32551.000000  32549.000000   \n",
      "mean      38.589325  1.897784e+05     10.080815   1077.979908     87.336016   \n",
      "std       13.693699  1.055500e+05      2.572948   7386.402293    403.031007   \n",
      "min       17.000000  1.228500e+04      1.000000      0.000000      0.000000   \n",
      "25%       28.000000  1.178270e+05      9.000000      0.000000      0.000000   \n",
      "50%       37.000000  1.783560e+05     10.000000      0.000000      0.000000   \n",
      "75%       48.000000  2.370510e+05     12.000000      0.000000      0.000000   \n",
      "max      190.000000  1.484705e+06     16.000000  99999.000000   4356.000000   \n",
      "\n",
      "       Hours_per_week  \n",
      "count    32545.000000  \n",
      "mean        40.436718  \n",
      "std         12.347939  \n",
      "min          1.000000  \n",
      "25%         40.000000  \n",
      "50%         40.000000  \n",
      "75%         45.000000  \n",
      "max         99.000000  \n"
     ]
    }
   ],
   "source": [
    "# estadisticas descriptivas\n",
    "estadistica = df.describe()\n",
    "print(\"Resumen Estadístico:\\n\", estadistica)"
   ]
  },
  {
   "cell_type": "markdown",
   "id": "07ce55a7-46c3-4d36-b782-de366b153a86",
   "metadata": {},
   "source": [
    "## Análisis y Respuesta de Preguntas:\n",
    "### 1. Verificacion de los datos"
   ]
  },
  {
   "cell_type": "code",
   "execution_count": 37,
   "id": "06aa2c03-a352-4c2a-be0b-56368670955e",
   "metadata": {},
   "outputs": [
    {
     "name": "stdout",
     "output_type": "stream",
     "text": [
      "Datos faltantes por columna:\n",
      "Work_Class        1836\n",
      "Eduction_num        30\n",
      "Occupation        1843\n",
      "Capital_gain        10\n",
      "Capital_loss        12\n",
      "Hours_per_week      16\n",
      "Native_country     583\n",
      "dtype: int64\n"
     ]
    }
   ],
   "source": [
    "# Verificar datos nulos\n",
    "faltantes = df.isnull().sum()\n",
    "print(\"Datos faltantes por columna:\")\n",
    "print(faltantes[faltantes > 0])  # Muestra solo las columnas con datos faltantes\n"
   ]
  },
  {
   "cell_type": "markdown",
   "id": "3126896b-776b-4c23-9135-cde0a40b66d3",
   "metadata": {},
   "source": [
    "De acuerdo con el resumen estadístico del conjunto de datos, los atributos como <code>fnlwgt, Capital_gain, Capital_loss y Hours_per_week</code> tienen una variabilidad considerable entre sus valores mínimos y máximos.\n",
    "\n",
    "Por ejemplo:\n",
    "\n",
    "<code>fnlwgt</code> tiene un rango entre 12,285 y 1,484,705.\n",
    "<code>Capital_gain</code> tiene un rango entre 0 y 99,999.\n",
    "<code>Hours_per_week</code> tiene un rango entre 1 y 99.\n",
    "Estos valores tienen diferencias en sus rangos, lo que puede afectar negativamente a algunos algoritmos. Es recomendable normalizar estos atributos."
   ]
  },
  {
   "cell_type": "markdown",
   "id": "c7cddf84-b7a5-4aab-85ce-02b9d22fc0d3",
   "metadata": {},
   "source": [
    "### 2. Relacion de los Campos\n",
    "   \n",
    "**Education:** Este campo contiene el nivel educativo descrito de manera textual. Los valores son categorías como \"Bachelors\", \"Masters\", \"HS-grad\", \"Doctorate\", etc.\n",
    "\n",
    "**Education_num:** Este campo es un valor numérico que representa el nivel educativo de manera cuantitativa. Un valor numérico más alto indica un nivel educativo más alto. Por ejemplo, un valor de \"13\" puede corresponder a un \"Bachelors\" o \"Undergraduate degree\", mientras que un valor de \"16\" podría corresponder a un \"Doctorate\" o \"PhD\".\n",
    "\n",
    "**Relación Esperada**\n",
    "La relación esperada es que los valores en la columna Education_num deben correlacionarse con los valores en la columna Education de manera lógica y consistente. \n",
    "\n",
    "**Verificación de la Relación entre las Columnas**\n",
    "\n",
    "Se verifica los valores en Education_num si son coherentes con los valores de Education mediante un análisis descriptivo:"
   ]
  },
  {
   "cell_type": "code",
   "execution_count": 39,
   "id": "a67c3514-67b9-4631-b746-1f698bc4b871",
   "metadata": {
    "scrolled": true
   },
   "outputs": [
    {
     "name": "stdout",
     "output_type": "stream",
     "text": [
      "             Eduction_num                   \n",
      "                      min   max  mean  count\n",
      "Education                                   \n",
      "Preschool             1.0   1.0   1.0     51\n",
      "1st-4th               2.0   2.0   2.0    168\n",
      "5th-6th               3.0   3.0   3.0    333\n",
      "7th-8th               4.0   4.0   4.0    646\n",
      "9th                   5.0   5.0   5.0    514\n",
      "10th                  6.0   6.0   6.0    931\n",
      "11th                  7.0   7.0   7.0   1174\n",
      "12th                  8.0   8.0   8.0    432\n",
      "HS-grad               9.0   9.0   9.0  10488\n",
      "Some-college         10.0  10.0  10.0   7284\n",
      "Assoc-voc            11.0  11.0  11.0   1382\n",
      "Assoc-acdm           12.0  12.0  12.0   1067\n",
      "Bachelors            13.0  13.0  13.0   5353\n",
      "Masters              14.0  14.0  14.0   1720\n",
      "Prof-school          15.0  15.0  15.0    576\n",
      "Doctorate            16.0  16.0  16.0    412\n"
     ]
    }
   ],
   "source": [
    "# Verificar la relación entre los dos campos 'Education' y 'Education_num'\n",
    "relation = df[['Education', 'Eduction_num']].groupby('Education').agg(\n",
    "    ['min', 'max', 'mean', 'count']).sort_values([('Eduction_num', 'mean')])\n",
    "\n",
    "print(relation)\n"
   ]
  },
  {
   "cell_type": "markdown",
   "id": "c027a885-6369-4e46-bfcc-85ba2f330a5c",
   "metadata": {},
   "source": [
    "Aquí se puede observar lo siguiente: La columna <code>Education_num</code> tiene un valor fijo para cada nivel educativo. \n",
    "\n",
    "Por ejemplo:\n",
    "- <code>Preschool</code> tiene un valor de 1.0\n",
    "- <code>Bachelors</code> tiene un valor de 13.0\n",
    "- <code>Doctorate</code> tiene un valor de 16.0\n",
    "\n",
    "Esto sugiere que la columna <code>Education_num</code> fue diseñada para proporcionar una representación numérica del nivel educativo.\n",
    "\n",
    "Repetición de valores: Para cada valor de <code>Education_num</code>, existe un conteo (count) que indica cuántas personas pertenecen a ese nivel educativo. Por ejemplo, <code>HS-grad</code> tiene 10,488 registros, lo que indica que es el nivel educativo más común en este conjunto de datos.\n",
    "\n",
    "Verificación de la consistencia: Los valores min, max, y mean para cada nivel educativo coinciden con los valores de <code>Education_num</code> asociados, lo que muestra que no hay inconsistencias entre las dos columnas."
   ]
  },
  {
   "cell_type": "markdown",
   "id": "88f2a7fe-e086-41a1-8b66-8fd260ed1dda",
   "metadata": {},
   "source": [
    "### 3. Reemplazo de valores faltantes\n",
    "\n",
    "Para las columnas específicas <code>Education_num</code> y <code>Capital_loss</code>, reemplazaremos los valores faltantes con el valor mínimo de cada columna:"
   ]
  },
  {
   "cell_type": "code",
   "execution_count": 40,
   "id": "8d5b8d4e-4b73-4572-9611-45b2df341de3",
   "metadata": {},
   "outputs": [
    {
     "data": {
      "text/plain": [
       "0        0.0\n",
       "1        0.0\n",
       "2        0.0\n",
       "3        0.0\n",
       "4        0.0\n",
       "        ... \n",
       "32556    0.0\n",
       "32557    0.0\n",
       "32558    0.0\n",
       "32559    0.0\n",
       "32560    0.0\n",
       "Name: Capital_loss, Length: 32561, dtype: float64"
      ]
     },
     "execution_count": 40,
     "metadata": {},
     "output_type": "execute_result"
    }
   ],
   "source": [
    "# Reemplazar valores faltantes en 'Education_num' con el valor mínimo\n",
    "df['Eduction_num'].fillna(df['Eduction_num'].min())\n",
    "\n",
    "# Reemplazar valores faltantes en 'Capital_loss' con el valor mínimo\n",
    "df['Capital_loss'].fillna(df['Capital_loss'].min())\n"
   ]
  },
  {
   "cell_type": "markdown",
   "id": "d87e0fe1-d84c-499b-af70-f27aa85586c7",
   "metadata": {},
   "source": [
    "Para el resto de las columnas numéricas que puedan tener valores faltantes, usaremos el valor promedio (media) de cada columna."
   ]
  },
  {
   "cell_type": "code",
   "execution_count": 41,
   "id": "c37d7ea2-5a97-48c8-b64c-da26f031c123",
   "metadata": {},
   "outputs": [
    {
     "name": "stdout",
     "output_type": "stream",
     "text": [
      "Age                  0\n",
      "Work_Class        1836\n",
      "fnlwgt               0\n",
      "Education            0\n",
      "Eduction_num         0\n",
      "Marital_status       0\n",
      "Occupation        1843\n",
      "Relationship         0\n",
      "Rice                 0\n",
      "Sex                  0\n",
      "Capital_gain         0\n",
      "Capital_loss         0\n",
      "Hours_per_week       0\n",
      "Native_country     583\n",
      "Class                0\n",
      "dtype: int64\n"
     ]
    }
   ],
   "source": [
    "# Seleccionar solo columnas numéricas\n",
    "numeric_columns = df.select_dtypes(include=['number']).columns\n",
    "\n",
    "# Reemplazar valores faltantes en las columnas numéricas con el valor promedio\n",
    "df[numeric_columns] = df[numeric_columns].fillna(df[numeric_columns].mean())\n",
    "\n",
    "# Verificar nuevamente si hay valores faltantes\n",
    "print(df.isnull().sum())\n"
   ]
  },
  {
   "cell_type": "markdown",
   "id": "e8c7b074-bc8f-4ea3-b7d6-3b9381f1523d",
   "metadata": {},
   "source": [
    "### 4. Generación de Atributos Nuevos\n",
    "Dado que las columnas <code>Work_Class</code>, <code>Occupation</code>, y <code>Native_country</code> tienen valores faltantes y son de tipo object (es decir, son categóricas o de texto), es necesario abordarlas de manera diferente que las columnas numéricas.\n",
    "\n",
    "Se reemplaza los valores faltantes en columnas categóricas con <code>\"Unknown\"</code> (desconocido):"
   ]
  },
  {
   "cell_type": "code",
   "execution_count": 50,
   "id": "9c1574d5-4da2-4daf-a12c-756acfd94253",
   "metadata": {},
   "outputs": [
    {
     "name": "stdout",
     "output_type": "stream",
     "text": [
      "Age               0\n",
      "Work_Class        0\n",
      "fnlwgt            0\n",
      "Education         0\n",
      "Eduction_num      0\n",
      "Marital_status    0\n",
      "Occupation        0\n",
      "Relationship      0\n",
      "Rice              0\n",
      "Sex               0\n",
      "Capital_gain      0\n",
      "Capital_loss      0\n",
      "Hours_per_week    0\n",
      "Native_country    0\n",
      "Class             0\n",
      "dtype: int64\n"
     ]
    }
   ],
   "source": [
    "# Reemplazar valores faltantes en columnas categóricas con 'Unknown'\n",
    "categorical_columns = df.select_dtypes(include=['object']).columns\n",
    "\n",
    "for col in categorical_columns:\n",
    "    df[col] = df[col].fillna('Unknown')\n",
    "\n",
    "# Verificar si hay valores faltantes después de hacer el reemplazo\n",
    "print(df.isnull().sum())\n"
   ]
  },
  {
   "cell_type": "code",
   "execution_count": 49,
   "id": "aabceb4b-9a5b-4071-84d2-932c443b53a1",
   "metadata": {
    "scrolled": true
   },
   "outputs": [
    {
     "name": "stdout",
     "output_type": "stream",
     "text": [
      "   Age  fnlwgt   Education  Eduction_num    Rice  Capital_gain  Capital_loss  \\\n",
      "0   39   77516   Bachelors          13.0   White        2174.0           0.0   \n",
      "1   50   83311   Bachelors          13.0   White           0.0           0.0   \n",
      "2   38  215646     HS-grad           9.0   White           0.0           0.0   \n",
      "3   53  234721        11th           7.0   Black           0.0           0.0   \n",
      "4   28  338409   Bachelors          13.0   Black           0.0           0.0   \n",
      "\n",
      "   Hours_per_week  Native_country  Work_Class_ Local-gov  ...  \\\n",
      "0            40.0   United-States                  False  ...   \n",
      "1            13.0   United-States                  False  ...   \n",
      "2            40.0   United-States                  False  ...   \n",
      "3            40.0   United-States                  False  ...   \n",
      "4            40.0            Cuba                  False  ...   \n",
      "\n",
      "   Occupation_ Transport-moving  Relationship_ Not-in-family  \\\n",
      "0                         False                         True   \n",
      "1                         False                        False   \n",
      "2                         False                         True   \n",
      "3                         False                        False   \n",
      "4                         False                        False   \n",
      "\n",
      "   Relationship_ Other-relative  Relationship_ Own-child  \\\n",
      "0                         False                    False   \n",
      "1                         False                    False   \n",
      "2                         False                    False   \n",
      "3                         False                    False   \n",
      "4                         False                    False   \n",
      "\n",
      "   Relationship_ Unmarried  Relationship_ Wife  Sex_Female  Sex_M  Sex_Male  \\\n",
      "0                    False               False       False  False      True   \n",
      "1                    False               False       False  False      True   \n",
      "2                    False               False       False  False      True   \n",
      "3                    False               False       False  False      True   \n",
      "4                    False                True       False  False     False   \n",
      "\n",
      "   Class_ >50K  \n",
      "0        False  \n",
      "1        False  \n",
      "2        False  \n",
      "3        False  \n",
      "4        False  \n",
      "\n",
      "[5 rows x 44 columns]\n"
     ]
    }
   ],
   "source": [
    "# Codificación One-Hot para la variable categórica 'sex'\n",
    "ddf_one_hot_encoded = pd.get_dummies(df, columns=['Sex'])\n",
    "# Ver el DataFrame después de One-Hot Encoding\n",
    "print(df_encoded.head())"
   ]
  },
  {
   "cell_type": "markdown",
   "id": "ca02ce56-fd5c-4e43-b20f-a9f2c8e05ca6",
   "metadata": {},
   "source": [
    "Normalizacion"
   ]
  },
  {
   "cell_type": "code",
   "execution_count": 19,
   "id": "4650020a-4700-4376-9c6d-7145d227ba7c",
   "metadata": {},
   "outputs": [
    {
     "name": "stdout",
     "output_type": "stream",
     "text": [
      "                Age        fnlwgt  Eduction_num  Capital_gain  Capital_loss  \\\n",
      "count  32561.000000  32561.000000  32561.000000  32561.000000  32561.000000   \n",
      "mean       0.124794      0.120545      0.605388      0.010780      0.020050   \n",
      "std        0.079154      0.071685      0.171451      0.073853      0.092506   \n",
      "min        0.000000      0.000000      0.000000      0.000000      0.000000   \n",
      "25%        0.063584      0.071679      0.533333      0.000000      0.000000   \n",
      "50%        0.115607      0.112788      0.600000      0.000000      0.000000   \n",
      "75%        0.179191      0.152651      0.733333      0.000000      0.000000   \n",
      "max        1.000000      1.000000      1.000000      1.000000      1.000000   \n",
      "\n",
      "       Hours_per_week  \n",
      "count    32561.000000  \n",
      "mean         0.402415  \n",
      "std          0.125968  \n",
      "min          0.000000  \n",
      "25%          0.397959  \n",
      "50%          0.397959  \n",
      "75%          0.448980  \n",
      "max          1.000000  \n"
     ]
    }
   ],
   "source": [
    "from sklearn.preprocessing import MinMaxScaler\n",
    "\n",
    "# Seleccionar las columnas numéricas para normalizar\n",
    "columns_to_normalize = ['Age', 'fnlwgt', 'Eduction_num', 'Capital_gain', 'Capital_loss', 'Hours_per_week']\n",
    "\n",
    "# Crear el objeto MinMaxScaler\n",
    "scaler = MinMaxScaler()\n",
    "\n",
    "# Aplicar la normalización Min-Max a las columnas seleccionadas\n",
    "df[columns_to_normalize] = scaler.fit_transform(df[columns_to_normalize])\n",
    "\n",
    "# Verificar el resumen estadístico después de la normalización\n",
    "print(df[columns_to_normalize].describe())"
   ]
  },
  {
   "cell_type": "code",
   "execution_count": null,
   "id": "bcbefbd4-f70a-4192-9e9a-fcbcfa28085e",
   "metadata": {},
   "outputs": [],
   "source": []
  }
 ],
 "metadata": {
  "kernelspec": {
   "display_name": "Python 3 (ipykernel)",
   "language": "python",
   "name": "python3"
  },
  "language_info": {
   "codemirror_mode": {
    "name": "ipython",
    "version": 3
   },
   "file_extension": ".py",
   "mimetype": "text/x-python",
   "name": "python",
   "nbconvert_exporter": "python",
   "pygments_lexer": "ipython3",
   "version": "3.12.7"
  }
 },
 "nbformat": 4,
 "nbformat_minor": 5
}
