{
 "cells": [
  {
   "cell_type": "markdown",
   "id": "8b615ca0-4361-4552-8a8b-38f7d2dfd54c",
   "metadata": {},
   "source": [
    "# Análisis de Datos Faltantes en un DataFrame\n",
    "\n",
    "Este notebook presenta diferentes técnicas para manejar valores faltantes en un DataFrame utilizando la biblioteca `pandas` y `scikit-learn`. Se explorarán métodos como eliminación de filas/columnas, reemplazo con valores constantes, media, interpolación y técnicas de imputación más avanzas.\n",
    "\n",
    "#### <font color='orange'>Explicación del Código:\n",
    "- Carga del conjunto de datos: Utilizamos pd.read_csv() para cargar el conjunto de datos Titanic desde un archivo CSV.\n",
    "- Comprobación de valores faltantes: Usamos isnull().sum() para identificar si hay valores faltantes en el DataFrame.\n",
    "- Eliminación de filas con valores faltantes: En este caso, eliminamos solo las filas donde Age es NaN utilizando dropna().\n",
    "- Detección de duplicados: Usamos duplicated().sum() para verificar si hay filas duplicadas.\n",
    "- Eliminación de duplicados: Si hay duplicados, usamos drop_duplicates() para eliminarlos.\n",
    "- Resumen estadístico: describe() proporciona estadísticas descriptivas del DataFrame.\n",
    "- Cantidad de sobrevivientes: Verificamos cuántos pasajeros sobrevivieron y cuántos no usando value_counts().\n",
    ".\n"
   ]
  },
  {
   "cell_type": "code",
   "execution_count": 9,
   "id": "d4a2fb6b-8af2-4c01-b32c-6203c10e705a",
   "metadata": {},
   "outputs": [],
   "source": [
    "# Celda 1: Importar librerías\n",
    "import pandas as pd\n",
    "import numpy as np\n",
    "from sklearn.impute import SimpleImputer\n"
   ]
  },
  {
   "cell_type": "markdown",
   "id": "79df98a7-b897-44b8-a6c1-9d0ce2a8b765",
   "metadata": {},
   "source": [
    "## Crear un DataFrame de ejemplo\n",
    "\n",
    "En esta celda, creamos un DataFrame de ejemplo que contiene algunos valores faltantes (NaN).\n"
   ]
  },
  {
   "cell_type": "code",
   "execution_count": 10,
   "id": "63b80844-ca32-40ff-b1e1-5c64bffa7f69",
   "metadata": {},
   "outputs": [
    {
     "name": "stdout",
     "output_type": "stream",
     "text": [
      "DataFrame original con valores faltantes:\n",
      "    columna_1  columna_2  columna_3\n",
      "0       10.0        NaN        5.0\n",
      "1       20.0        1.5        NaN\n",
      "2        NaN        2.5        NaN\n",
      "3       40.0        NaN       20.0\n",
      "4       50.0        4.5       25.0 \n",
      "\n"
     ]
    }
   ],
   "source": [
    "# Celda 2: Crear un DataFrame de ejemplo con algunos valores faltantes\n",
    "data = {\n",
    "    'columna_1': [10, 20, np.nan, 40, 50],\n",
    "    'columna_2': [np.nan, 1.5, 2.5, np.nan, 4.5],\n",
    "    'columna_3': [5, np.nan, np.nan, 20, 25]\n",
    "}\n",
    "\n",
    "df = pd.DataFrame(data)\n",
    "\n",
    "# Mostrar el DataFrame original\n",
    "print(\"DataFrame original con valores faltantes:\\n\", df, \"\\n\")\n"
   ]
  },
  {
   "cell_type": "markdown",
   "id": "f689cf84-fa73-44f1-8543-dfc7a6e399f9",
   "metadata": {},
   "source": [
    "## Eliminación de filas con valores faltantes\n",
    "\n",
    "En esta celda, eliminamos las filas que contienen cualquier valor faltante.\n"
   ]
  },
  {
   "cell_type": "code",
   "execution_count": 11,
   "id": "893aaffa-93f4-49c7-9c11-62b530334598",
   "metadata": {},
   "outputs": [
    {
     "name": "stdout",
     "output_type": "stream",
     "text": [
      "1. Filas con valores faltantes eliminadas:\n",
      "    columna_1  columna_2  columna_3\n",
      "4       50.0        4.5       25.0 \n",
      "\n"
     ]
    }
   ],
   "source": [
    "# Celda 3: Eliminar filas con valores faltantes\n",
    "df_sin_nan_filas = df.dropna()\n",
    "print(\"1. Filas con valores faltantes eliminadas:\\n\", df_sin_nan_filas, \"\\n\")\n"
   ]
  },
  {
   "cell_type": "code",
   "execution_count": 12,
   "id": "d8fb99b0-84b4-45e0-bb99-0225840457e7",
   "metadata": {},
   "outputs": [
    {
     "name": "stdout",
     "output_type": "stream",
     "text": [
      "2. Columnas con valores faltantes eliminadas:\n",
      " Empty DataFrame\n",
      "Columns: []\n",
      "Index: [0, 1, 2, 3, 4] \n",
      "\n"
     ]
    }
   ],
   "source": [
    "# Celda 4: Eliminar columnas con valores faltantes\n",
    "df_sin_nan_columnas = df.dropna(axis=1)\n",
    "print(\"2. Columnas con valores faltantes eliminadas:\\n\", df_sin_nan_columnas, \"\\n\")\n"
   ]
  },
  {
   "cell_type": "markdown",
   "id": "9b91a6a5-18ca-43d9-8fe3-344c36607723",
   "metadata": {},
   "source": [
    "## Rellenar valores faltantes con un valor constante\n",
    "\n",
    "En esta celda, reemplazamos todos los valores faltantes por un valor constante (por ejemplo, 0).\n"
   ]
  },
  {
   "cell_type": "code",
   "execution_count": 13,
   "id": "677d3ee8-ca82-4ec3-abd7-2284fbfd4dc0",
   "metadata": {},
   "outputs": [
    {
     "name": "stdout",
     "output_type": "stream",
     "text": [
      "3. Valores faltantes reemplazados por un valor constante (0):\n",
      "    columna_1  columna_2  columna_3\n",
      "0       10.0        0.0        5.0\n",
      "1       20.0        1.5        0.0\n",
      "2        0.0        2.5        0.0\n",
      "3       40.0        0.0       20.0\n",
      "4       50.0        4.5       25.0 \n",
      "\n"
     ]
    }
   ],
   "source": [
    "# Celda 5: Rellenar valores faltantes con un valor constante (por ejemplo, 0)\n",
    "df_rellenado_constante = df.fillna(0)\n",
    "print(\"3. Valores faltantes reemplazados por un valor constante (0):\\n\", df_rellenado_constante, \"\\n\")\n"
   ]
  },
  {
   "cell_type": "markdown",
   "id": "cd15986a-075a-427c-9c6a-e604851a1caf",
   "metadata": {},
   "source": [
    "## Rellenar valores faltantes con la media de cada columna\n",
    "\n",
    "Aquí se reemplazan los valores faltantes por la media de cada columna.\n"
   ]
  },
  {
   "cell_type": "code",
   "execution_count": 14,
   "id": "555cbcbd-03ce-4b9f-bdb2-b2d0a36c59c0",
   "metadata": {},
   "outputs": [
    {
     "name": "stdout",
     "output_type": "stream",
     "text": [
      "4. Valores faltantes reemplazados por la media de cada columna:\n",
      "    columna_1  columna_2  columna_3\n",
      "0       10.0   2.833333   5.000000\n",
      "1       20.0   1.500000  16.666667\n",
      "2       30.0   2.500000  16.666667\n",
      "3       40.0   2.833333  20.000000\n",
      "4       50.0   4.500000  25.000000 \n",
      "\n"
     ]
    }
   ],
   "source": [
    "# Celda 6: Rellenar valores faltantes con la media de cada columna\n",
    "df_rellenado_media = df.fillna(df.mean())\n",
    "print(\"4. Valores faltantes reemplazados por la media de cada columna:\\n\", df_rellenado_media, \"\\n\")\n"
   ]
  },
  {
   "cell_type": "markdown",
   "id": "b2e0b759-f959-4dd3-bb6c-01c9394af1a6",
   "metadata": {},
   "source": [
    "## Rellenar valores faltantes utilizando la interpolación\n",
    "\n",
    "En esta celda, se utilizan técnicas de interpolación para rellenar los valores faltantes. Este método es especialmente útil en series temporales.\n"
   ]
  },
  {
   "cell_type": "code",
   "execution_count": 15,
   "id": "c986d44d-360a-4204-a2ee-b58aa0e89fb0",
   "metadata": {},
   "outputs": [
    {
     "name": "stdout",
     "output_type": "stream",
     "text": [
      "5. Valores faltantes rellenados con interpolación lineal:\n",
      "    columna_1  columna_2  columna_3\n",
      "0       10.0        NaN        5.0\n",
      "1       20.0        1.5       10.0\n",
      "2       30.0        2.5       15.0\n",
      "3       40.0        3.5       20.0\n",
      "4       50.0        4.5       25.0 \n",
      "\n"
     ]
    }
   ],
   "source": [
    "# Celda 7: Rellenar valores faltantes utilizando la interpolación (útil en series temporales)\n",
    "df_interpolado = df.interpolate(method='linear')\n",
    "print(\"5. Valores faltantes rellenados con interpolación lineal:\\n\", df_interpolado, \"\\n\")\n"
   ]
  },
  {
   "cell_type": "markdown",
   "id": "da6a23fd-66ef-4ae0-aae8-433506dc1f88",
   "metadata": {},
   "source": [
    "## Imputación basada en modelos\n",
    "\n",
    "Finalmente, aplicamos un enfoque de imputación utilizando `scikit-learn`, que permite rellenar los valores faltantes basado en la media de las columnas.\n"
   ]
  },
  {
   "cell_type": "code",
   "execution_count": 16,
   "id": "45b2cde8-e631-4bb6-9330-e6db4ae58983",
   "metadata": {},
   "outputs": [
    {
     "name": "stdout",
     "output_type": "stream",
     "text": [
      "6. Valores faltantes rellenados utilizando la imputación basada en la media:\n",
      "    columna_1  columna_2  columna_3\n",
      "0       10.0   2.833333   5.000000\n",
      "1       20.0   1.500000  16.666667\n",
      "2       30.0   2.500000  16.666667\n",
      "3       40.0   2.833333  20.000000\n",
      "4       50.0   4.500000  25.000000 \n",
      "\n"
     ]
    }
   ],
   "source": [
    "# Celda 8: Imputación basada en modelos (usando scikit-learn)\n",
    "# Crear un imputer para rellenar con la media\n",
    "imputer = SimpleImputer(strategy='mean')\n",
    "\n",
    "# Aplicar el imputer solo a columnas numéricas\n",
    "df[['columna_1', 'columna_2', 'columna_3']] = imputer.fit_transform(df[['columna_1', 'columna_2', 'columna_3']])\n",
    "print(\"6. Valores faltantes rellenados utilizando la imputación basada en la media:\\n\", df, \"\\n\")\n"
   ]
  },
  {
   "cell_type": "markdown",
   "id": "6a04b986-4c67-4052-ab32-0090dcc24d81",
   "metadata": {},
   "source": [
    "#### <font color='orange'>Después de la Limpieza\n",
    "- Valores Faltantes:\n",
    "Se eliminó cualquier fila con valores faltantes en la columna Age. Esto reduce el tamaño del conjunto de datos, pero mejora la calidad de los análisis al asegurarse de que no haya valores NaN que puedan interferir con los cálculos. Alternativamente, si decides imputar los valores faltantes en lugar de eliminarlos, podrías usar la media o mediana de la columna Age, lo que preservaría más datos.\n",
    "\n",
    "- Duplicados:\n",
    "Cualquier fila duplicada se ha eliminado, lo que significa que ahora cada entrada es única. Esto proporciona una mejor base para realizar análisis y evita la duplicación en las métricas que se calculan.\n",
    "\n",
    "- Datos Consistentes:\n",
    "Después de la limpieza, los nombres de las columnas son consistentes, lo que facilita la manipulación de datos. Ahora puedes usar directamente las columnas para análisis sin preocuparte por errores de sintaxis.\n"
   ]
  },
  {
   "cell_type": "code",
   "execution_count": null,
   "id": "5e801137-7f67-43b1-bb09-8828029e4f0d",
   "metadata": {},
   "outputs": [],
   "source": []
  }
 ],
 "metadata": {
  "kernelspec": {
   "display_name": "Python 3 (ipykernel)",
   "language": "python",
   "name": "python3"
  },
  "language_info": {
   "codemirror_mode": {
    "name": "ipython",
    "version": 3
   },
   "file_extension": ".py",
   "mimetype": "text/x-python",
   "name": "python",
   "nbconvert_exporter": "python",
   "pygments_lexer": "ipython3",
   "version": "3.12.7"
  }
 },
 "nbformat": 4,
 "nbformat_minor": 5
}
