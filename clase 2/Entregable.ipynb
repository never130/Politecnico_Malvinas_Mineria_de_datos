{
 "cells": [
  {
   "cell_type": "code",
   "execution_count": 6,
   "id": "e48f38ed-7dc5-41af-bd09-6dcffe5a0f86",
   "metadata": {},
   "outputs": [
    {
     "name": "stdout",
     "output_type": "stream",
     "text": [
      "Requirement already satisfied: faker in c:\\users\\ever\\anaconda3\\lib\\site-packages (30.8.2)\n",
      "Requirement already satisfied: polars in c:\\users\\ever\\anaconda3\\lib\\site-packages (1.12.0)\n",
      "Requirement already satisfied: pandas in c:\\users\\ever\\anaconda3\\lib\\site-packages (2.2.2)\n",
      "Requirement already satisfied: python-dateutil>=2.4 in c:\\users\\ever\\appdata\\roaming\\python\\python312\\site-packages (from faker) (2.9.0.post0)\n",
      "Requirement already satisfied: typing-extensions in c:\\users\\ever\\anaconda3\\lib\\site-packages (from faker) (4.11.0)\n",
      "Requirement already satisfied: numpy>=1.26.0 in c:\\users\\ever\\anaconda3\\lib\\site-packages (from pandas) (1.26.4)\n",
      "Requirement already satisfied: pytz>=2020.1 in c:\\users\\ever\\anaconda3\\lib\\site-packages (from pandas) (2024.1)\n",
      "Requirement already satisfied: tzdata>=2022.7 in c:\\users\\ever\\anaconda3\\lib\\site-packages (from pandas) (2023.3)\n",
      "Requirement already satisfied: six>=1.5 in c:\\users\\ever\\appdata\\roaming\\python\\python312\\site-packages (from python-dateutil>=2.4->faker) (1.16.0)\n"
     ]
    }
   ],
   "source": [
    "!pip install faker polars pandas"
   ]
  },
  {
   "cell_type": "code",
   "execution_count": 12,
   "id": "57c17d99-2040-4733-83fe-d0b1b772ac6b",
   "metadata": {},
   "outputs": [
    {
     "name": "stdout",
     "output_type": "stream",
     "text": [
      "Datos generados (Pandas):\n",
      "                Name   Age        Income               City\n",
      "0     Michele Murphy  56.0  60475.984120          Markmouth\n",
      "1        Sarah Beard  69.0  47425.567472          Damonport\n",
      "2       Edward Moore  46.0  36392.201298  West Yolandashire\n",
      "3      Sean Anderson  32.0  67829.385896         West Sally\n",
      "4  Elizabeth Cameron  60.0  61782.981867        East Ashley\n"
     ]
    }
   ],
   "source": [
    "import pandas as pd\n",
    "import polars as pl\n",
    "from faker import Faker\n",
    "import numpy as np\n",
    "\n",
    "# Inicializar Faker\n",
    "fake = Faker()\n",
    "\n",
    "# Generar datos ficticios\n",
    "np.random.seed(42)\n",
    "data = {\n",
    "    'Name': [fake.name() for _ in range(100)],\n",
    "    'Age': np.random.randint(18, 80, size=100),\n",
    "    'Income': np.random.normal(50000, 15000, size=100),\n",
    "    'City': [fake.city() for _ in range(100)]\n",
    "}\n",
    "\n",
    "# Crear un DataFrame de Pandas\n",
    "df_pandas = pd.DataFrame(data)\n",
    "\n",
    "# Introducir valores nulos de manera intencional\n",
    "df_pandas.loc[5:10, 'Age'] = np.nan\n",
    "df_pandas.loc[20:25, 'Income'] = np.nan\n",
    "\n",
    "# Introducir outliers de manera intencional\n",
    "df_pandas.loc[15, 'Income'] = 200000\n",
    "df_pandas.loc[30, 'Age'] = 150\n",
    "\n",
    "# Convertir DataFrame de Pandas a Polars\n",
    "df_polars = pl.from_pandas(df_pandas)\n",
    "\n",
    "# Mostrar las primeras filas para verificar los datos\n",
    "print(\"Datos generados (Pandas):\")\n",
    "print(df_pandas.head())\n"
   ]
  },
  {
   "cell_type": "code",
   "execution_count": 13,
   "id": "dd8971c0-ae14-473a-87d6-bd5b4db06e42",
   "metadata": {
    "scrolled": true
   },
   "outputs": [
    {
     "name": "stdout",
     "output_type": "stream",
     "text": [
      "Análisis Exploratorio con Pandas\n",
      "Resumen Estadístico:\n",
      "              Age         Income\n",
      "count   94.000000      94.000000\n",
      "mean    51.265957   51532.179625\n",
      "std     21.714757   21605.576205\n",
      "min     19.000000   12518.612875\n",
      "25%     34.250000   38497.510844\n",
      "50%     52.500000   49468.150640\n",
      "75%     68.000000   60893.756768\n",
      "max    150.000000  200000.000000\n",
      "\n",
      "Valores Nulos:\n",
      "Name      0\n",
      "Age       6\n",
      "Income    6\n",
      "City      0\n",
      "dtype: int64\n",
      "\n",
      "Análisis Exploratorio con Polars\n",
      "Resumen Estadístico:\n",
      "shape: (9, 5)\n",
      "┌────────────┬───────────────┬───────────┬──────────────┬────────────────┐\n",
      "│ statistic  ┆ Name          ┆ Age       ┆ Income       ┆ City           │\n",
      "│ ---        ┆ ---           ┆ ---       ┆ ---          ┆ ---            │\n",
      "│ str        ┆ str           ┆ f64       ┆ f64          ┆ str            │\n",
      "╞════════════╪═══════════════╪═══════════╪══════════════╪════════════════╡\n",
      "│ count      ┆ 100           ┆ 94.0      ┆ 94.0         ┆ 100            │\n",
      "│ null_count ┆ 0             ┆ 6.0       ┆ 6.0          ┆ 0              │\n",
      "│ mean       ┆ null          ┆ 51.265957 ┆ 51532.179625 ┆ null           │\n",
      "│ std        ┆ null          ┆ 21.714757 ┆ 21605.576205 ┆ null           │\n",
      "│ min        ┆ Aaron Trevino ┆ 19.0      ┆ 12518.612875 ┆ Alexandrialand │\n",
      "│ 25%        ┆ null          ┆ 34.0      ┆ 38454.983395 ┆ null           │\n",
      "│ 50%        ┆ null          ┆ 53.0      ┆ 49589.353316 ┆ null           │\n",
      "│ 75%        ┆ null          ┆ 68.0      ┆ 60917.496712 ┆ null           │\n",
      "│ max        ┆ William Brown ┆ 150.0     ┆ 200000.0     ┆ Williamchester │\n",
      "└────────────┴───────────────┴───────────┴──────────────┴────────────────┘\n",
      "\n",
      "Valores Nulos:\n",
      "shape: (1, 4)\n",
      "┌──────┬─────┬────────┬──────┐\n",
      "│ Name ┆ Age ┆ Income ┆ City │\n",
      "│ ---  ┆ --- ┆ ---    ┆ ---  │\n",
      "│ u32  ┆ u32 ┆ u32    ┆ u32  │\n",
      "╞══════╪═════╪════════╪══════╡\n",
      "│ 0    ┆ 6   ┆ 6      ┆ 0    │\n",
      "└──────┴─────┴────────┴──────┘\n"
     ]
    }
   ],
   "source": [
    "\n",
    "# Análisis Exploratorio con Pandas\n",
    "print(\"Análisis Exploratorio con Pandas\")\n",
    "print(\"Resumen Estadístico:\")\n",
    "print(df_pandas.describe())\n",
    "print(\"\\nValores Nulos:\")\n",
    "print(df_pandas.isnull().sum())\n",
    "\n",
    "# Análisis Exploratorio con Polars\n",
    "print(\"\\nAnálisis Exploratorio con Polars\")\n",
    "print(\"Resumen Estadístico:\")\n",
    "print(df_polars.describe())\n",
    "print(\"\\nValores Nulos:\")\n",
    "print(df_polars.null_count())"
   ]
  },
  {
   "cell_type": "code",
   "execution_count": 14,
   "id": "e397aba6-41fe-4898-b84f-a7655c33086e",
   "metadata": {},
   "outputs": [
    {
     "name": "stdout",
     "output_type": "stream",
     "text": [
      "\n",
      "Tratamiento de Valores Nulos con Pandas\n",
      "                Name   Age        Income               City\n",
      "0     Michele Murphy  56.0  60475.984120          Markmouth\n",
      "1        Sarah Beard  69.0  47425.567472          Damonport\n",
      "2       Edward Moore  46.0  36392.201298  West Yolandashire\n",
      "3      Sean Anderson  32.0  67829.385896         West Sally\n",
      "4  Elizabeth Cameron  60.0  61782.981867        East Ashley\n"
     ]
    }
   ],
   "source": [
    "# Eliminación de filas con valores nulos\n",
    "df_pandas_dropna = df_pandas.dropna()\n",
    "\n",
    "# Imputación con la media\n",
    "df_pandas_fillna_mean = df_pandas.copy()\n",
    "df_pandas_fillna_mean['Age'].fillna(df_pandas['Age'].mean())\n",
    "df_pandas_fillna_mean['Income'].fillna(df_pandas['Income'].mean())\n",
    "\n",
    "# Asignación de un valor específico\n",
    "df_pandas_fillna_value = df_pandas.fillna({'Age': 30, 'Income': 40000})\n",
    "\n",
    "print(\"\\nTratamiento de Valores Nulos con Pandas\")\n",
    "print(df_pandas_fillna_mean.head())"
   ]
  },
  {
   "cell_type": "code",
   "execution_count": 15,
   "id": "5852b65c-d300-478f-af52-4d0f827cf12b",
   "metadata": {},
   "outputs": [
    {
     "name": "stdout",
     "output_type": "stream",
     "text": [
      "\n",
      "Tratamiento de Valores Nulos con Polars\n",
      "shape: (5, 4)\n",
      "┌───────────────────┬──────┬──────────────┬───────────────────┐\n",
      "│ Name              ┆ Age  ┆ Income       ┆ City              │\n",
      "│ ---               ┆ ---  ┆ ---          ┆ ---               │\n",
      "│ str               ┆ f64  ┆ f64          ┆ str               │\n",
      "╞═══════════════════╪══════╪══════════════╪═══════════════════╡\n",
      "│ Michele Murphy    ┆ 56.0 ┆ 60475.98412  ┆ Markmouth         │\n",
      "│ Sarah Beard       ┆ 69.0 ┆ 47425.567472 ┆ Damonport         │\n",
      "│ Edward Moore      ┆ 46.0 ┆ 36392.201298 ┆ West Yolandashire │\n",
      "│ Sean Anderson     ┆ 32.0 ┆ 67829.385896 ┆ West Sally        │\n",
      "│ Elizabeth Cameron ┆ 60.0 ┆ 61782.981867 ┆ East Ashley       │\n",
      "└───────────────────┴──────┴──────────────┴───────────────────┘\n"
     ]
    }
   ],
   "source": [
    "# Eliminación de filas con valores nulos\n",
    "df_polars_dropna = df_polars.drop_nulls()\n",
    "\n",
    "# Imputación con la media\n",
    "df_polars_fillna_mean = df_polars.with_columns([\n",
    "    pl.col('Age').fill_null(df_polars['Age'].mean()),\n",
    "    pl.col('Income').fill_null(df_polars['Income'].mean())\n",
    "])\n",
    "\n",
    "# Asignación de un valor específico\n",
    "df_polars_fillna_value = df_polars.fill_null({\n",
    "    'Age': 30,\n",
    "    'Income': 40000\n",
    "})\n",
    "\n",
    "print(\"\\nTratamiento de Valores Nulos con Polars\")\n",
    "print(df_polars_fillna_mean.head())"
   ]
  },
  {
   "cell_type": "markdown",
   "id": "5a3a62e1-252e-48b2-b351-1b35e07ef8df",
   "metadata": {},
   "source": [
    "Velocidad: Polars suele ser más rápido que Pandas para operaciones con grandes volúmenes de datos debido a su diseño optimizado.\n",
    "Sintaxis: Aunque similar, Polars utiliza una sintaxis diferente para algunas operaciones, lo que puede requerir una curva de aprendizaje.\n",
    "Funcionalidad: Algunas operaciones que son comunes en Pandas pueden necesitar enfoques ligeramente diferentes en Polars."
   ]
  },
  {
   "cell_type": "code",
   "execution_count": null,
   "id": "c5aa83d7-6f8b-49fd-9549-f1eb400a3fea",
   "metadata": {},
   "outputs": [],
   "source": []
  },
  {
   "cell_type": "code",
   "execution_count": null,
   "id": "203f9675-6f2c-4017-ba12-51f81b5c84b8",
   "metadata": {},
   "outputs": [],
   "source": []
  },
  {
   "cell_type": "code",
   "execution_count": null,
   "id": "27925376-ae9f-4686-8648-d8547e8de1be",
   "metadata": {},
   "outputs": [],
   "source": []
  }
 ],
 "metadata": {
  "kernelspec": {
   "display_name": "Python 3 (ipykernel)",
   "language": "python",
   "name": "python3"
  },
  "language_info": {
   "codemirror_mode": {
    "name": "ipython",
    "version": 3
   },
   "file_extension": ".py",
   "mimetype": "text/x-python",
   "name": "python",
   "nbconvert_exporter": "python",
   "pygments_lexer": "ipython3",
   "version": "3.12.7"
  }
 },
 "nbformat": 4,
 "nbformat_minor": 5
}
