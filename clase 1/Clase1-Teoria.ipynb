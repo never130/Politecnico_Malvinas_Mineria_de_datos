{
  "cells": [
    {
      "cell_type": "markdown",
      "metadata": {
        "id": "view-in-github",
        "colab_type": "text"
      },
      "source": [
        "<a href=\"https://colab.research.google.com/github/never130/Politecnico_Malvinas_Mineria_de_datos/blob/main/clase%201/Clase1-Teoria.ipynb\" target=\"_parent\"><img src=\"https://colab.research.google.com/assets/colab-badge.svg\" alt=\"Open In Colab\"/></a>"
      ]
    },
    {
      "cell_type": "markdown",
      "id": "6d402196-cf7a-4293-a393-10e03536f3f0",
      "metadata": {
        "id": "6d402196-cf7a-4293-a393-10e03536f3f0"
      },
      "source": [
        "## Actividad: Descubrimiento Colaborativo de Trucos y Consejos en Pandas\n",
        "\n",
        "<b>Objetivo de la Actividad</b>: El objetivo de esta actividad es enriquecer nuestro conocimiento colectivo sobre la biblioteca Pandas de Python, explorando y compartiendo trucos, consejos y mejores prácticas. Cada estudiante investigará un tema específico utilizando herramientas de inteligencia artificial como ChatGPT o Google Gemini, para descubrir consejos útiles y eficientes en el uso de Pandas para análisis de datos.\n",
        "\n",
        "### Instrucciones:\n",
        "1. Selección de Tema: A continuación, encontrarás una lista de temas\n",
        "sobre Pandas. Selecciona uno que te interese o te parezca desafiante.\n",
        "La idea es que cada estudiante elija un tema diferente, así que\n",
        "asegúrate de indicar tu elección en el foro antes de comenzar tu\n",
        "investigación.\n",
        "Lista de Temas:\n",
        "- Eficiencia con pd.read_csv: Cargar grandes datasets.\n",
        "- Manejo de valores faltantes: Estrategias y métodos.\n",
        "- Slicing y dicing de DataFrames: Selección y filtrado\n",
        "avanzados.\n",
        "- Análisis agregado con groupby: Sumarización y agrupación\n",
        "de datos.\n",
        "- Visualización directa desde Pandas: Generación de gráficos.\n",
        "- Uso de datos tipo categorical para optimización de memoria.\n",
        "- Manejo de series temporales y fechas: Trucos y consejos.\n",
        "- Mejoras de rendimiento: Consejos para código más rápido con\n",
        "Pandas.\n",
        "\n",
        "2. Investigación: Utiliza ChatGPT o Google Gemini para investigar tu\n",
        "tema seleccionado. Busca trucos, consejos prácticos, fragmentos de\n",
        "código útiles y mejores prácticas. Intenta encontrar al menos una\n",
        "recomendación que consideres valiosa y no ampliamente conocida.\n",
        "\n",
        "3. Compartir en el Foro: Publica tus hallazgos en el foro del curso.\n",
        "Asegúrate de incluir:\n",
        "- Una breve descripción del truco o consejo.\n",
        "- Un ejemplo de código (si es aplicable).\n",
        "- Cómo este consejo mejora el uso o la eficiencia de Pandas en\n",
        "el análisis de datos.\n",
        "\n",
        "4. Interacción: Revisa y comenta al menos dos publicaciones de tus\n",
        "compañeros. Puedes ofrecer más información, preguntar cómo su\n",
        "truco podría aplicarse en diferentes contextos o discutir cualquier\n",
        "aspecto relacionado con el tema.\n",
        "Criterios de Evaluación:\n",
        "- Profundidad y claridad en la exposición de los conceptos.\n",
        "- Estructura lógica y coherente del informe.\n",
        "- Aplicación adecuada de los conceptos aprendidos en la clase y del fragmento proporcionado."
      ]
    },
    {
      "cell_type": "markdown",
      "id": "8f2ec494-fb58-4927-86ad-78de44423753",
      "metadata": {
        "id": "8f2ec494-fb58-4927-86ad-78de44423753"
      },
      "source": []
    },
    {
      "cell_type": "code",
      "source": [],
      "metadata": {
        "id": "7ZbfEOVzj-lK"
      },
      "id": "7ZbfEOVzj-lK",
      "execution_count": null,
      "outputs": []
    }
  ],
  "metadata": {
    "kernelspec": {
      "display_name": "Python 3 (ipykernel)",
      "language": "python",
      "name": "python3"
    },
    "language_info": {
      "codemirror_mode": {
        "name": "ipython",
        "version": 3
      },
      "file_extension": ".py",
      "mimetype": "text/x-python",
      "name": "python",
      "nbconvert_exporter": "python",
      "pygments_lexer": "ipython3",
      "version": "3.11.7"
    },
    "colab": {
      "provenance": [],
      "include_colab_link": true
    }
  },
  "nbformat": 4,
  "nbformat_minor": 5
}