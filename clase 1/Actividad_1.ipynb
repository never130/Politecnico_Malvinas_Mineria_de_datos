{
  "cells": [
    {
      "cell_type": "markdown",
      "metadata": {
        "id": "view-in-github",
        "colab_type": "text"
      },
      "source": [
        "<a href=\"https://colab.research.google.com/github/never130/Politecnico_Malvinas_Mineria_de_datos/blob/main/clase%201/Actividad_1.ipynb\" target=\"_parent\"><img src=\"https://colab.research.google.com/assets/colab-badge.svg\" alt=\"Open In Colab\"/></a>"
      ]
    },
    {
      "cell_type": "markdown",
      "id": "99e276ad-0301-41f9-8205-1de603253719",
      "metadata": {
        "id": "99e276ad-0301-41f9-8205-1de603253719"
      },
      "source": [
        " # <font color='orange'>Actividad: Descubrimiento Colaborativo de Trucos y Consejos en Pandas </font>\n",
        "\n",
        "**Objetivo de la Actividad:** El objetivo de esta actividad es enriquecer nuestro conocimiento colectivo sobre la biblioteca Pandas de Python, explorando y compartiendo trucos, consejos y mejores prácticas. Cada estudiante investigará un tema específico utilizando herramientas de inteligencia artificial como ChatGPT o Google Gemini, para descubrir consejos útiles y eficientes en el uso de Pandas para análisis de datos.\n",
        "\n",
        "**Instrucciones**:\n",
        "1. Selección de Tema: A continuación, encontrarás una lista de temas\n",
        "sobre Pandas. Selecciona uno que te interese o te parezca desafiante.\n",
        "La idea es que cada estudiante elija un tema diferente, así que\n",
        "asegúrate de indicar tu elección en el foro antes de comenzar tu\n",
        "investigación.\n",
        "**Lista de Temas:**\n",
        "- Eficiencia con pd.read_csv: Cargar grandes datasets.\n",
        "- Manejo de valores faltantes: Estrategias y métodos.\n",
        "- Slicing y dicing de DataFrames: Selección y filtrado\n",
        "avanzados.\n",
        "- Análisis agregado con groupby: Sumarización y agrupación\n",
        "de datos.\n",
        "- Visualización directa desde Pandas: Generación de gráficos.\n",
        "- Uso de datos tipo categorical para optimización de memoria.\n",
        "- Manejo de series temporales y fechas: Trucos y consejos.\n",
        "- Mejoras de rendimiento: Consejos para código más rápido con\n",
        "Pandas.\n",
        "\n",
        "2. Investigación: Utiliza ChatGPT o Google Gemini para investigar tu\n",
        "tema seleccionado. Busca trucos, consejos prácticos, fragmentos de\n",
        "código útiles y mejores prácticas. Intenta encontrar al menos una\n",
        "recomendación que consideres valiosa y no ampliamente conocida.\n",
        "\n",
        "3. Compartir en el Foro: Publica tus hallazgos en el foro del curso.\n",
        "Asegúrate de incluir:\n",
        "- Una breve descripción del truco o consejo.\n",
        "- Un ejemplo de código (si es aplicable).\n",
        "- Cómo este consejo mejora el uso o la eficiencia de Pandas en\n",
        "el análisis de datos.\n",
        "\n",
        "4. Interacción: Revisa y comenta al menos dos publicaciones de tus\n",
        "compañeros. Puedes ofrecer más información, preguntar cómo su\n",
        "truco podría aplicarse en diferentes contextos o discutir cualquier\n",
        "aspecto relacionado con el tema.\n",
        "Criterios de Evaluación:\n",
        "- Profundidad y claridad en la exposición de los conceptos.\n",
        "- Estructura lógica y coherente del informe.\n",
        "- Aplicación adecuada de los conceptos aprendidos en la clase y del\n",
        "fragmento proporcionado."
      ]
    },
    {
      "cell_type": "markdown",
      "id": "0faa4523-0436-43bf-a175-29ea2a0b294b",
      "metadata": {
        "id": "0faa4523-0436-43bf-a175-29ea2a0b294b"
      },
      "source": [
        "## Manejo de valores faltantes: Estrategias y métodos\n",
        "### Descripción del truco:\n",
        "Pandas ofrece múltiples formas de manejar valores faltantes en un DataFrame. Algunas de las estrategias más comunes incluyen:\n",
        "- Eliminar filas o columnas con valores faltantes: Esto es útil cuando la cantidad de datos perdidos es baja y no se afecta la integridad del análisis. </br>\n",
        "\n",
        "Ejemplo:\n"
      ]
    },
    {
      "cell_type": "code",
      "execution_count": null,
      "id": "13999882-d262-41e1-8ad7-5162f2093357",
      "metadata": {
        "id": "13999882-d262-41e1-8ad7-5162f2093357"
      },
      "outputs": [],
      "source": [
        "# df = df.dropna()  # Elimina todas las filas con al menos un valor NaN\n",
        "# df = df.dropna(axis=1)  # Elimina las columnas con al menos un valor NaN\n"
      ]
    },
    {
      "cell_type": "markdown",
      "id": "ff6e1cee-8915-472f-b496-959e4a22968e",
      "metadata": {
        "id": "ff6e1cee-8915-472f-b496-959e4a22968e"
      },
      "source": [
        "- Rellenar valores faltantes: Rellenar valores NaN con algún valor específico, como la media o mediana de la columna, puede ser una forma útil de preservar la información. <br>\n",
        "Ejemplo:"
      ]
    },
    {
      "cell_type": "code",
      "execution_count": null,
      "id": "bb4becd9-618d-4098-867f-fe79d896e187",
      "metadata": {
        "id": "bb4becd9-618d-4098-867f-fe79d896e187"
      },
      "outputs": [],
      "source": [
        "# df['columna'].fillna(df['columna'].mean(), inplace=True) # Rellena con la media\n",
        "# df['columna'].fillna(df['columna'].median(), inplace=True) # Rellena con la mediana"
      ]
    },
    {
      "cell_type": "markdown",
      "id": "0f854d9e-8bff-417a-b1f0-96e90dcd89d5",
      "metadata": {
        "id": "0f854d9e-8bff-417a-b1f0-96e90dcd89d5"
      },
      "source": [
        "### Investigacion:\n",
        "Uno de los trucos menos conocidos es el uso de metodos como interpolate() para completar los valores faltantes basandose en interpolaciones, lo cual es muy útil para series temporales o datos numéricos con una tendencia clara.\n",
        "### Descripción del truco:\n",
        "El método interpolate() en Pandas permite rellenar valores faltantes utilizando distintos métodos de interpolación, como lineal, polinómica, o spline. Este enfoque es especialmente útil cuando tenés series temporales o datos con una tendencia subyacente, y simplemente rellenar con la media o mediana no es adecuado.\n",
        "### Ejemplo del código:"
      ]
    },
    {
      "cell_type": "code",
      "execution_count": null,
      "id": "f95349da-853d-4cb2-9faa-63a97e76d1a9",
      "metadata": {
        "id": "f95349da-853d-4cb2-9faa-63a97e76d1a9",
        "outputId": "17df91a7-07ac-4541-a1d4-97a56607551e"
      },
      "outputs": [
        {
          "name": "stdout",
          "output_type": "stream",
          "text": [
            "   tiempo  valor  valor_interpolado\n",
            "0       1   10.0               10.0\n",
            "1       2    NaN               20.0\n",
            "2       3    NaN               30.0\n",
            "3       4   40.0               40.0\n",
            "4       5   50.0               50.0\n",
            "5       6   60.0               60.0\n"
          ]
        }
      ],
      "source": [
        "import pandas as pd\n",
        "import numpy as np\n",
        "\n",
        "# Crear un DataFrame de ejemplo con valores faltantes\n",
        "data = {'tiempo': [1, 2, 3, 4, 5, 6],\n",
        "        'valor': [10, np.nan, np.nan, 40, 50, 60]}\n",
        "\n",
        "df = pd.DataFrame(data)\n",
        "\n",
        "# Rellenar los valores faltantes usando interpolación lineal\n",
        "df['valor_interpolado'] = df['valor'].interpolate(method='linear')\n",
        "\n",
        "print(df)\n"
      ]
    },
    {
      "cell_type": "markdown",
      "id": "4d36cbdd-7588-4c34-8c3b-daabb2b680cf",
      "metadata": {
        "jp-MarkdownHeadingCollapsed": true,
        "id": "4d36cbdd-7588-4c34-8c3b-daabb2b680cf"
      },
      "source": [
        "### **Mejora en el uso de Pandas:**\n",
        "Este método es más avanzado que simplemente rellenar valores con la media o eliminar filas, porque preserva las tendencias en los datos, lo que es crucial en análisis de series temporales. Además, mejora la precisión de los análisis posteriores, ya que conserva la estructura de los datos originales sin introducir sesgos.\n",
        "\n",
        "Este truco es especialmente útil cuando se trabaja con datasets de series temporales o datos secuenciales donde eliminar o rellenar con un único valor afectaría el análisis."
      ]
    },
    {
      "cell_type": "markdown",
      "source": [
        "#<font color='orange'>Actividad Práctica: Exploración de un Conjunto de Datos</font>\n",
        "**Objetivo:**\n",
        "Identificar un conjunto de datos, reconocer los tipos de datos presentes y explorar las posibles relaciones entre ellos.\n",
        "\n",
        "**Instrucciones:**\n",
        "Selección del Conjunto de Datos: Visita un repositorio de conjuntos de\n",
        "datos como Kaggle o UCI Machine Learning Repository. Selecciona un conjunto de datos que te interese. Descárgalo y familiarízate con la información que contiene.\n",
        "\n",
        "**Identificación de los Tipos de Datos:** Abre el conjunto de datos utilizando Python y Pandas. Identifica las variables presentes en el conjunto de datos y determina su tipo (por ejemplo, numérico, categórico, etc.).\n",
        "Ejemplo de código para abrir un conjunto de datos en formato CSV con\n",
        "Pandas:\n",
        "\n",
        "`import pandas as pd`\n",
        "\n",
        "Reemplaza 'ruta/al/conjunto/datos.csv' con la ruta al archivo CSV que\n",
        "descargaste\n",
        "```\n",
        "df = pd.read_csv('ruta/al/conjunto/datos.csv')\n",
        "# Muestra las primeras filas del DataFrame\n",
        "print(df.head())\n",
        "# Muestra los tipos de datos de las columnas\n",
        "print(df.dtypes)\n",
        "```\n",
        "**Exploración de las Relaciones entre Variables:** Utiliza técnicas de análisis univariado y multivariado para explorar las posibles relaciones entre las variables en tu conjunto de datos. Por ejemplo, puedes calcular correlaciones entre variables numéricas o crear gráficos para visualizar las relaciones entre variables.\n",
        "Ejemplo de código para calcular la correlación entre variables numéricas:\n",
        "\n",
        "```\n",
        "# Calcula la correlación entre todas las variables numéricas correlaciones =\n",
        "df.corr()\n",
        "# Muestra la matriz de correlación\n",
        "print(correlaciones)\n",
        "```\n",
        "\n",
        "**Informe de los Resultados:** Escribe un breve informe de tus hallazgos. ¿Qué tipos de datos encontraste en tu conjunto de datos? ¿Descubriste alguna relación interesante entre las variables? ¿Cómo podrías utilizar estos hallazgos en un proyecto de minería de datos?\n",
        "Recuerda que esta actividad es una oportunidad para aplicar los conceptos que hemos discutido en la clase. No dudes en experimentar y explorar tu conjunto de datos de diferentes maneras. ¡Buena suerte!\n"
      ],
      "metadata": {
        "id": "UbVU4tvBGwmp"
      },
      "id": "UbVU4tvBGwmp"
    },
    {
      "cell_type": "markdown",
      "source": [
        "# <font color='orange'>**Dataset seleccionado** </font>\n",
        "Hardware de Computadora de Machine Learning Repository.\n",
        "\n",
        "### **Descripción:**\n",
        "Datos relativos al rendimiento de la CPU, descritos en términos de tiempo de ciclo, tamaño de memoria, etc.\n",
        "\n",
        "## **Instalacion:**\n",
        "- Instalamos el paquete ucimlrepo\n",
        "- Importamos el dataset:"
      ],
      "metadata": {
        "id": "3S0343uhYHA-"
      },
      "id": "3S0343uhYHA-"
    },
    {
      "cell_type": "code",
      "source": [
        "!pip install ucimlrepo pandas"
      ],
      "metadata": {
        "collapsed": true,
        "id": "o7VZmtXcY3H0",
        "outputId": "b1efcce7-69bc-43af-85eb-3090b7830d33",
        "colab": {
          "base_uri": "https://localhost:8080/"
        }
      },
      "id": "o7VZmtXcY3H0",
      "execution_count": 6,
      "outputs": [
        {
          "output_type": "stream",
          "name": "stdout",
          "text": [
            "Requirement already satisfied: ucimlrepo in /usr/local/lib/python3.10/dist-packages (0.0.7)\n",
            "Requirement already satisfied: pandas in /usr/local/lib/python3.10/dist-packages (2.2.2)\n",
            "Requirement already satisfied: certifi>=2020.12.5 in /usr/local/lib/python3.10/dist-packages (from ucimlrepo) (2024.8.30)\n",
            "Requirement already satisfied: numpy>=1.22.4 in /usr/local/lib/python3.10/dist-packages (from pandas) (1.26.4)\n",
            "Requirement already satisfied: python-dateutil>=2.8.2 in /usr/local/lib/python3.10/dist-packages (from pandas) (2.8.2)\n",
            "Requirement already satisfied: pytz>=2020.1 in /usr/local/lib/python3.10/dist-packages (from pandas) (2024.2)\n",
            "Requirement already satisfied: tzdata>=2022.7 in /usr/local/lib/python3.10/dist-packages (from pandas) (2024.2)\n",
            "Requirement already satisfied: six>=1.5 in /usr/local/lib/python3.10/dist-packages (from python-dateutil>=2.8.2->pandas) (1.16.0)\n"
          ]
        }
      ]
    },
    {
      "cell_type": "markdown",
      "source": [
        "### 1. Configuración Inicial\n",
        "\n",
        "Se importa las bibliotecas y se carga el conjunto de datos inicial:"
      ],
      "metadata": {
        "id": "rJZ8Ck8AdtxT"
      },
      "id": "rJZ8Ck8AdtxT"
    },
    {
      "cell_type": "code",
      "source": [
        "from ucimlrepo import fetch_ucirepo\n",
        "import pandas as pd\n",
        "import matplotlib.pyplot as plt\n",
        "import seaborn as sns\n",
        "\n",
        "# fetch dataset, se accede desde la pagina de Machine Learning Repository\n",
        "df = fetch_ucirepo(id=29)\n",
        "\n",
        "# data (as pandas DataFrames)\n",
        "X = pd.DataFrame(df.data.features, columns=df.variables['name'].values)\n",
        "y = pd.Series(df.data.targets)\n",
        "\n",
        "# metadata\n",
        "print(f\"Metada del conjunto de datos: {df.metadata}\\n\")\n",
        "\n",
        "# variable information\n",
        "print(f\"Informacion sobre las variables: \\n{df.variables}\")"
      ],
      "metadata": {
        "collapsed": true,
        "id": "kNMfKmbXIqBn",
        "outputId": "b1055161-013b-4aaa-94c3-b62d290ec058",
        "colab": {
          "base_uri": "https://localhost:8080/"
        }
      },
      "id": "kNMfKmbXIqBn",
      "execution_count": 16,
      "outputs": [
        {
          "output_type": "stream",
          "name": "stdout",
          "text": [
            "Metada del conjunto de datos: {'uci_id': 29, 'name': 'Computer Hardware', 'repository_url': 'https://archive.ics.uci.edu/dataset/29/computer+hardware', 'data_url': 'https://archive.ics.uci.edu/static/public/29/data.csv', 'abstract': 'Relative CPU Performance Data, described in terms of its cycle time, memory size, etc.', 'area': 'Computer Science', 'tasks': ['Regression'], 'characteristics': ['Multivariate'], 'num_instances': 209, 'num_features': 10, 'feature_types': ['Integer'], 'demographics': [], 'target_col': None, 'index_col': None, 'has_missing_values': 'no', 'missing_values_symbol': None, 'year_of_dataset_creation': 1987, 'last_updated': 'Fri Oct 27 2023', 'dataset_doi': '10.24432/C5830D', 'creators': ['Jacob Feldmesser'], 'intro_paper': None, 'additional_info': {'summary': 'The estimated relative performance values were estimated by the authors using a linear regression method.  See their article (pp 308-313) for more details on how the relative performance values were set.', 'purpose': None, 'funded_by': None, 'instances_represent': None, 'recommended_data_splits': None, 'sensitive_data': None, 'preprocessing_description': None, 'variable_info': '   1. vendor name: 30 \\r\\n      (adviser, amdahl,apollo, basf, bti, burroughs, c.r.d, cambex, cdc, dec, \\r\\n       dg, formation, four-phase, gould, honeywell, hp, ibm, ipl, magnuson, \\r\\n       microdata, nas, ncr, nixdorf, perkin-elmer, prime, siemens, sperry, \\r\\n       sratus, wang)\\r\\n   2. Model Name: many unique symbols\\r\\n   3. MYCT: machine cycle time in nanoseconds (integer)\\r\\n   4. MMIN: minimum main memory in kilobytes (integer)\\r\\n   5. MMAX: maximum main memory in kilobytes (integer)\\r\\n   6. CACH: cache memory in kilobytes (integer)\\r\\n   7. CHMIN: minimum channels in units (integer)\\r\\n   8. CHMAX: maximum channels in units (integer)\\r\\n   9. PRP: published relative performance (integer)\\r\\n  10. ERP: estimated relative performance from the original article (integer)', 'citation': None}}\n",
            "\n",
            "Informacion sobre las variables: \n",
            "         name     role         type demographic  \\\n",
            "0  VendorName  Feature  Categorical        None   \n",
            "1   ModelName  Feature  Categorical        None   \n",
            "2        MYCT  Feature      Integer        None   \n",
            "3        MMIN  Feature      Integer        None   \n",
            "4        MMAX  Feature      Integer        None   \n",
            "5        CACH  Feature      Integer        None   \n",
            "6       CHMIN  Feature      Integer        None   \n",
            "7       CHMAX  Feature      Integer        None   \n",
            "8         PRP  Feature      Integer        None   \n",
            "9         ERP  Feature      Integer        None   \n",
            "\n",
            "                                         description        units  \\\n",
            "0  (adviser, amdahl,apollo, basf, bti, burroughs,...         None   \n",
            "1                                many unique symbols         None   \n",
            "2                                 machine cycle time  nanoseconds   \n",
            "3                                minimum main memory    kilobytes   \n",
            "4                                maximum main memory    kilobytes   \n",
            "5                                       cache memory    kilobytes   \n",
            "6                                   minimum channels        units   \n",
            "7                                   maximum channels        units   \n",
            "8                     published relative performance         None   \n",
            "9  estimated relative performance from the origin...         None   \n",
            "\n",
            "  missing_values  \n",
            "0             no  \n",
            "1             no  \n",
            "2             no  \n",
            "3             no  \n",
            "4             no  \n",
            "5             no  \n",
            "6             no  \n",
            "7             no  \n",
            "8             no  \n",
            "9             no  \n"
          ]
        }
      ]
    },
    {
      "cell_type": "code",
      "source": [],
      "metadata": {
        "id": "-r3YqDmEZ0R6"
      },
      "id": "-r3YqDmEZ0R6",
      "execution_count": null,
      "outputs": []
    },
    {
      "cell_type": "code",
      "source": [],
      "metadata": {
        "id": "ymlv2pQmaZXI"
      },
      "id": "ymlv2pQmaZXI",
      "execution_count": null,
      "outputs": []
    }
  ],
  "metadata": {
    "kernelspec": {
      "display_name": "Python 3 (ipykernel)",
      "language": "python",
      "name": "python3"
    },
    "language_info": {
      "codemirror_mode": {
        "name": "ipython",
        "version": 3
      },
      "file_extension": ".py",
      "mimetype": "text/x-python",
      "name": "python",
      "nbconvert_exporter": "python",
      "pygments_lexer": "ipython3",
      "version": "3.11.7"
    },
    "colab": {
      "provenance": [],
      "include_colab_link": true
    }
  },
  "nbformat": 4,
  "nbformat_minor": 5
}