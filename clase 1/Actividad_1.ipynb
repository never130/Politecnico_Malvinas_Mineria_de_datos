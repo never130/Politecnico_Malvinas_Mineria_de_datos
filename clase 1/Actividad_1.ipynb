{
  "cells": [
    {
      "cell_type": "markdown",
      "metadata": {
        "id": "view-in-github",
        "colab_type": "text"
      },
      "source": [
        "<a href=\"https://colab.research.google.com/github/never130/Politecnico_Malvinas_Mineria_de_datos/blob/main/clase%201/Actividad_1.ipynb\" target=\"_parent\"><img src=\"https://colab.research.google.com/assets/colab-badge.svg\" alt=\"Open In Colab\"/></a>"
      ]
    },
    {
      "cell_type": "markdown",
      "id": "99e276ad-0301-41f9-8205-1de603253719",
      "metadata": {
        "id": "99e276ad-0301-41f9-8205-1de603253719"
      },
      "source": [
        "# Instancia de Autoevaluacion:\n",
        "\n",
        "Objetivo de la Actividad: El objetivo de esta actividad es enriquecer\n",
        "nuestro conocimiento colectivo sobre la biblioteca Pandas de Python,\n",
        "explorando y compartiendo trucos, consejos y mejores prácticas. Cada\n",
        "estudiante investigará un tema específico utilizando herramientas de\n",
        "inteligencia artificial como ChatGPT o Google Gemini, para descubrir\n",
        "consejos útiles y eficientes en el uso de Pandas para análisis de datos.\n",
        "Instrucciones:\n",
        "1. Selección de Tema: A continuación, encontrarás una lista de temas\n",
        "sobre Pandas. Selecciona uno que te interese o te parezca desafiante.\n",
        "La idea es que cada estudiante elija un tema diferente, así que\n",
        "asegúrate de indicar tu elección en el foro antes de comenzar tu\n",
        "investigación.\n",
        "Lista de Temas:\n",
        "● Eficiencia con pd.read_csv: Cargar grandes datasets.\n",
        "● Manejo de valores faltantes: Estrategias y métodos.\n",
        "● Slicing y dicing de DataFrames: Selección y filtrado\n",
        "avanzados.\n",
        "● Análisis agregado con groupby: Sumarización y agrupación\n",
        "de datos.\n",
        "● Visualización directa desde Pandas: Generación de gráficos.\n",
        "● Uso de datos tipo categorical para optimización de memoria.\n",
        "● Manejo de series temporales y fechas: Trucos y consejos.\n",
        "● Mejoras de rendimiento: Consejos para código más rápido con\n",
        "Pandas.\n",
        "2. Investigación: Utiliza ChatGPT o Google Gemini para investigar tu\n",
        "tema seleccionado. Busca trucos, consejos prácticos, fragmentos de\n",
        "código útiles y mejores prácticas. Intenta encontrar al menos una\n",
        "recomendación que consideres valiosa y no ampliamente conocida.\n",
        "3. Compartir en el Foro: Publica tus hallazgos en el foro del curso.\n",
        "Asegúrate de incluir:\n",
        "● Una breve descripción del truco o consejo.\n",
        "● Un ejemplo de código (si es aplicable).\n",
        "● Cómo este consejo mejora el uso o la eficiencia de Pandas en\n",
        "el análisis de datos.\n",
        "4. Interacción: Revisa y comenta al menos dos publicaciones de tus\n",
        "compañeros. Puedes ofrecer más información, preguntar cómo su\n",
        "truco podría aplicarse en diferentes contextos o discutir cualquier\n",
        "aspecto relacionado con el tema.\n",
        "Criterios de Evaluación:\n",
        "● Profundidad y claridad en la exposición de los conceptos.\n",
        "● Estructura lógica y coherente del informe.\n",
        "● Aplicación adecuada de los conceptos aprendidos en la clase y del\n",
        "fragmento proporcionado.\n"
      ]
    },
    {
      "cell_type": "markdown",
      "id": "0faa4523-0436-43bf-a175-29ea2a0b294b",
      "metadata": {
        "id": "0faa4523-0436-43bf-a175-29ea2a0b294b"
      },
      "source": [
        "## Manejo de valores faltantes: Estrategias y métodos\n",
        "### Descripción del truco:\n",
        "Pandas ofrece múltiples formas de manejar valores faltantes en un DataFrame. Algunas de las estrategias más comunes incluyen:\n",
        "- Eliminar filas o columnas con valores faltantes: Esto es útil cuando la cantidad de datos perdidos es baja y no se afecta la integridad del análisis. </br>\n",
        "\n",
        "Ejemplo:\n"
      ]
    },
    {
      "cell_type": "code",
      "execution_count": null,
      "id": "13999882-d262-41e1-8ad7-5162f2093357",
      "metadata": {
        "id": "13999882-d262-41e1-8ad7-5162f2093357"
      },
      "outputs": [],
      "source": [
        "# df = df.dropna()  # Elimina todas las filas con al menos un valor NaN\n",
        "# df = df.dropna(axis=1)  # Elimina las columnas con al menos un valor NaN\n"
      ]
    },
    {
      "cell_type": "markdown",
      "id": "ff6e1cee-8915-472f-b496-959e4a22968e",
      "metadata": {
        "id": "ff6e1cee-8915-472f-b496-959e4a22968e"
      },
      "source": [
        "- Rellenar valores faltantes: Rellenar valores NaN con algún valor específico, como la media o mediana de la columna, puede ser una forma útil de preservar la información. <br>\n",
        "Ejemplo:"
      ]
    },
    {
      "cell_type": "code",
      "execution_count": null,
      "id": "bb4becd9-618d-4098-867f-fe79d896e187",
      "metadata": {
        "id": "bb4becd9-618d-4098-867f-fe79d896e187"
      },
      "outputs": [],
      "source": [
        "# df['columna'].fillna(df['columna'].mean(), inplace=True) # Rellena con la media\n",
        "# df['columna'].fillna(df['columna'].median(), inplace=True) # Rellena con la mediana"
      ]
    },
    {
      "cell_type": "markdown",
      "id": "0f854d9e-8bff-417a-b1f0-96e90dcd89d5",
      "metadata": {
        "id": "0f854d9e-8bff-417a-b1f0-96e90dcd89d5"
      },
      "source": [
        "### Investigacion:\n",
        "Uno de los trucos menos conocidos es el uso de metodos como interpolate() para completar los valores faltantes basandose en interpolaciones, lo cual es muy útil para series temporales o datos numéricos con una tendencia clara.\n",
        "### Descripción del truco:\n",
        "El método interpolate() en Pandas permite rellenar valores faltantes utilizando distintos métodos de interpolación, como lineal, polinómica, o spline. Este enfoque es especialmente útil cuando tenés series temporales o datos con una tendencia subyacente, y simplemente rellenar con la media o mediana no es adecuado.\n",
        "### Ejemplo del código:"
      ]
    },
    {
      "cell_type": "code",
      "execution_count": null,
      "id": "f95349da-853d-4cb2-9faa-63a97e76d1a9",
      "metadata": {
        "id": "f95349da-853d-4cb2-9faa-63a97e76d1a9",
        "outputId": "17df91a7-07ac-4541-a1d4-97a56607551e"
      },
      "outputs": [
        {
          "name": "stdout",
          "output_type": "stream",
          "text": [
            "   tiempo  valor  valor_interpolado\n",
            "0       1   10.0               10.0\n",
            "1       2    NaN               20.0\n",
            "2       3    NaN               30.0\n",
            "3       4   40.0               40.0\n",
            "4       5   50.0               50.0\n",
            "5       6   60.0               60.0\n"
          ]
        }
      ],
      "source": [
        "import pandas as pd\n",
        "import numpy as np\n",
        "\n",
        "# Crear un DataFrame de ejemplo con valores faltantes\n",
        "data = {'tiempo': [1, 2, 3, 4, 5, 6],\n",
        "        'valor': [10, np.nan, np.nan, 40, 50, 60]}\n",
        "\n",
        "df = pd.DataFrame(data)\n",
        "\n",
        "# Rellenar los valores faltantes usando interpolación lineal\n",
        "df['valor_interpolado'] = df['valor'].interpolate(method='linear')\n",
        "\n",
        "print(df)\n"
      ]
    },
    {
      "cell_type": "markdown",
      "id": "4d36cbdd-7588-4c34-8c3b-daabb2b680cf",
      "metadata": {
        "jp-MarkdownHeadingCollapsed": true,
        "id": "4d36cbdd-7588-4c34-8c3b-daabb2b680cf"
      },
      "source": [
        "### Mejora en el uso de Pandas:\n",
        "Este método es más avanzado que simplemente rellenar valores con la media o eliminar filas, porque preserva las tendencias en los datos, lo que es crucial en análisis de series temporales. Además, mejora la precisión de los análisis posteriores, ya que conserva la estructura de los datos originales sin introducir sesgos.\n",
        "\n",
        "Este truco es especialmente útil cuando se trabaja con datasets de series temporales o datos secuenciales donde eliminar o rellenar con un único valor afectaría el análisis."
      ]
    }
  ],
  "metadata": {
    "kernelspec": {
      "display_name": "Python 3 (ipykernel)",
      "language": "python",
      "name": "python3"
    },
    "language_info": {
      "codemirror_mode": {
        "name": "ipython",
        "version": 3
      },
      "file_extension": ".py",
      "mimetype": "text/x-python",
      "name": "python",
      "nbconvert_exporter": "python",
      "pygments_lexer": "ipython3",
      "version": "3.11.7"
    },
    "colab": {
      "provenance": [],
      "include_colab_link": true
    }
  },
  "nbformat": 4,
  "nbformat_minor": 5
}