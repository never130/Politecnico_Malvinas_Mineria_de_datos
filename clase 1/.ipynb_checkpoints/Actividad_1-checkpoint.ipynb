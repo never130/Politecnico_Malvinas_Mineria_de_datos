{
 "cells": [
  {
   "cell_type": "markdown",
   "id": "99e276ad-0301-41f9-8205-1de603253719",
   "metadata": {},
   "source": [
    "## Manejo de valores faltantes: Estrategias y métodos\n"
   ]
  },
  {
   "cell_type": "markdown",
   "id": "0faa4523-0436-43bf-a175-29ea2a0b294b",
   "metadata": {},
   "source": [
    "### Descripción del truco:\n",
    "Pandas ofrece múltiples formas de manejar valores faltantes en un DataFrame. Algunas de las estrategias más comunes incluyen:\n",
    "- Eliminar filas o columnas con valores faltantes: Esto es útil cuando la cantidad de datos perdidos es baja y no se afecta la integridad del análisis. </br>\n",
    "\n",
    "Ejemplo:\n"
   ]
  },
  {
   "cell_type": "code",
   "execution_count": 7,
   "id": "13999882-d262-41e1-8ad7-5162f2093357",
   "metadata": {},
   "outputs": [],
   "source": [
    "# df = df.dropna()  # Elimina todas las filas con al menos un valor NaN\n",
    "# df = df.dropna(axis=1)  # Elimina las columnas con al menos un valor NaN\n"
   ]
  },
  {
   "cell_type": "markdown",
   "id": "ff6e1cee-8915-472f-b496-959e4a22968e",
   "metadata": {},
   "source": [
    "- Rellenar valores faltantes: Rellenar valores NaN con algún valor específico, como la media o mediana de la columna, puede ser una forma útil de preservar la información. <br>\n",
    "Ejemplo:"
   ]
  },
  {
   "cell_type": "code",
   "execution_count": 6,
   "id": "bb4becd9-618d-4098-867f-fe79d896e187",
   "metadata": {},
   "outputs": [],
   "source": [
    "# df['columna'].fillna(df['columna'].mean(), inplace=True) # Rellena con la media\n",
    "# df['columna'].fillna(df['columna'].median(), inplace=True) # Rellena con la mediana"
   ]
  },
  {
   "cell_type": "markdown",
   "id": "0f854d9e-8bff-417a-b1f0-96e90dcd89d5",
   "metadata": {},
   "source": [
    "### Investigacion:\n",
    "Uno de los trucos menos conocidos es el uso de metodos como interpolate() para completar los valores faltantes basandose en interpolaciones, lo cual es muy útil para series temporales o datos numéricos con una tendencia clara.\n",
    "### Descripción del truco:\n",
    "El método interpolate() en Pandas permite rellenar valores faltantes utilizando distintos métodos de interpolación, como lineal, polinómica, o spline. Este enfoque es especialmente útil cuando tenés series temporales o datos con una tendencia subyacente, y simplemente rellenar con la media o mediana no es adecuado.\n",
    "### Ejemplo del código:"
   ]
  },
  {
   "cell_type": "code",
   "execution_count": 8,
   "id": "f95349da-853d-4cb2-9faa-63a97e76d1a9",
   "metadata": {},
   "outputs": [
    {
     "name": "stdout",
     "output_type": "stream",
     "text": [
      "   tiempo  valor  valor_interpolado\n",
      "0       1   10.0               10.0\n",
      "1       2    NaN               20.0\n",
      "2       3    NaN               30.0\n",
      "3       4   40.0               40.0\n",
      "4       5   50.0               50.0\n",
      "5       6   60.0               60.0\n"
     ]
    }
   ],
   "source": [
    "import pandas as pd\n",
    "import numpy as np\n",
    "\n",
    "# Crear un DataFrame de ejemplo con valores faltantes\n",
    "data = {'tiempo': [1, 2, 3, 4, 5, 6],\n",
    "        'valor': [10, np.nan, np.nan, 40, 50, 60]}\n",
    "\n",
    "df = pd.DataFrame(data)\n",
    "\n",
    "# Rellenar los valores faltantes usando interpolación lineal\n",
    "df['valor_interpolado'] = df['valor'].interpolate(method='linear')\n",
    "\n",
    "print(df)\n"
   ]
  },
  {
   "cell_type": "markdown",
   "id": "4d36cbdd-7588-4c34-8c3b-daabb2b680cf",
   "metadata": {},
   "source": [
    "### Mejora en el uso de Pandas:\n",
    "Este método es más avanzado que simplemente rellenar valores con la media o eliminar filas, porque preserva las tendencias en los datos, lo que es crucial en análisis de series temporales. Además, mejora la precisión de los análisis posteriores, ya que conserva la estructura de los datos originales sin introducir sesgos.\n",
    "\n",
    "Este truco es especialmente útil cuando se trabaja con datasets de series temporales o datos secuenciales donde eliminar o rellenar con un único valor afectaría el análisis."
   ]
  },
  {
   "cell_type": "code",
   "execution_count": null,
   "id": "b67c5d45-9807-4678-b828-bb498b7e30d3",
   "metadata": {},
   "outputs": [],
   "source": []
  }
 ],
 "metadata": {
  "kernelspec": {
   "display_name": "Python 3 (ipykernel)",
   "language": "python",
   "name": "python3"
  },
  "language_info": {
   "codemirror_mode": {
    "name": "ipython",
    "version": 3
   },
   "file_extension": ".py",
   "mimetype": "text/x-python",
   "name": "python",
   "nbconvert_exporter": "python",
   "pygments_lexer": "ipython3",
   "version": "3.11.7"
  }
 },
 "nbformat": 4,
 "nbformat_minor": 5
}
